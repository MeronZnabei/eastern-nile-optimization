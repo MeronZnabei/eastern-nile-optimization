{
 "cells": [
  {
   "cell_type": "code",
   "execution_count": 48,
   "id": "d53fdad8-1a7f-4e7f-a017-48dbe647a431",
   "metadata": {},
   "outputs": [],
   "source": [
    "import os\n",
    "import pandas as pd\n",
    "import pickle\n",
    "import numpy as np\n",
    "import matplotlib.pyplot as plt"
   ]
  },
  {
   "cell_type": "markdown",
   "id": "1ce615b4-77bf-4b67-99ac-6bdc5a1b1f9d",
   "metadata": {},
   "source": [
    "## Reading Wheeler et al. (2018)\n",
    "- Synthetic streamflow data sets generated through the annealing method under three parameter configurations (100 stochastic flow scenarios in each)"
   ]
  },
  {
   "cell_type": "code",
   "execution_count": 2,
   "id": "eeefb550-e245-4c38-9a40-d1c64f32a42f",
   "metadata": {},
   "outputs": [],
   "source": [
    "data_folders = [\"Wheeler/Annealing_120Hurst\", \"Wheeler/Annealing_150ias\", \"Wheeler/Annealing_Baseline\"]"
   ]
  },
  {
   "cell_type": "code",
   "execution_count": null,
   "id": "7a6e782e-1a94-4c58-b3b9-dc86cf80acef",
   "metadata": {},
   "outputs": [],
   "source": [
    "data = dict()\n",
    "for data_folder in data_folders:\n",
    "    data[data_folder] = list()\n",
    "    \n",
    "    for trace_no in range(1,101):\n",
    "        trace_df = dict()\n",
    "        inflow_list = os.listdir(data_folder + \"/trace\" + str(trace_no))\n",
    "        for inflow in inflow_list:\n",
    "            if (\".Inflow\" in inflow):\n",
    "                location = data_folder + \"/trace\" + str(trace_no) + \"/\" + inflow\n",
    "                inflow_data = pd.read_csv(location)\n",
    "                inflow_data = inflow_data.loc[2:].reset_index(drop = True)\n",
    "                inflow_data.columns = [inflow]\n",
    "\n",
    "                trace_df[inflow] = inflow_data[inflow].astype(float)\n",
    "        \n",
    "        data[data_folder].append(pd.DataFrame(trace_df))"
   ]
  },
  {
   "cell_type": "code",
   "execution_count": null,
   "id": "cf671254-434c-45ef-9341-320457ba8ed4",
   "metadata": {},
   "outputs": [],
   "source": [
    "data.keys()"
   ]
  },
  {
   "cell_type": "code",
   "execution_count": null,
   "id": "5d1d8d1b-dda7-4bca-9ae3-369318015f2e",
   "metadata": {},
   "outputs": [],
   "source": [
    "data[\"120Hurst\"] = data.pop(\"Wheeler/Annealing_120Hurst\")\n",
    "data[\"150ias\"] = data.pop(\"Wheeler/Annealing_150ias\")\n",
    "data[\"Baseline\"] = data.pop(\"Wheeler/Annealing_Baseline\")"
   ]
  },
  {
   "cell_type": "code",
   "execution_count": null,
   "id": "55abb5ef-2bb1-477d-9bc8-a083061503ce",
   "metadata": {},
   "outputs": [],
   "source": [
    "data[\"Baseline\"][99]"
   ]
  },
  {
   "cell_type": "code",
   "execution_count": null,
   "id": "ac674e54-aacb-4ae7-a54e-ae93a7b22e4d",
   "metadata": {},
   "outputs": [],
   "source": [
    "# pickle.dump( data, open( \"3sets_wheeler.p\", \"wb\" ) )"
   ]
  },
  {
   "cell_type": "code",
   "execution_count": 2,
   "id": "0b23c09b-740e-4c28-b48f-ed71034b5924",
   "metadata": {},
   "outputs": [],
   "source": [
    "data_read = pickle.load( open( \"3sets_wheeler.p\", \"rb\" ) )"
   ]
  },
  {
   "cell_type": "code",
   "execution_count": 3,
   "id": "1b5fd14f-b599-406a-b0da-258de0ccf42e",
   "metadata": {},
   "outputs": [
    {
     "data": {
      "text/plain": [
       "0.03644046111239999"
      ]
     },
     "execution_count": 3,
     "metadata": {},
     "output_type": "execute_result"
    }
   ],
   "source": [
    "data_read[\"Baseline\"][99][\"519.Inflow\"].mean()*3600*24*365/1000000000"
   ]
  },
  {
   "cell_type": "markdown",
   "id": "d152ce6a-9057-452c-983c-470ae9b695b1",
   "metadata": {},
   "source": [
    "Other flow data to read and combine with Wheeler:\n",
    "- Mogren gaging station (near where White Nile reaches the Main Nile) [UNH/GRDC Composite Runoff Fields](https://www.compositerunoff.sr.unh.edu/html/Polygons/P1673100.html)\n",
    "- Atbara at Kilo 3 gaging station (where Atbara river reaches the Main Nile) [Center for Sustainability and the Global Environment-\n",
    "Nelson Institute for Environmental Studies](https://sage.nelson.wisc.edu/riverdata/station_table.php?qual=256&filenum=138)\n",
    "- Gaging station before the Renaissance Dam (Seleshi Data)"
   ]
  },
  {
   "cell_type": "code",
   "execution_count": 4,
   "id": "53552c21-95b7-430c-b47d-13f1ba3add5c",
   "metadata": {},
   "outputs": [
    {
     "data": {
      "text/html": [
       "<div>\n",
       "<style scoped>\n",
       "    .dataframe tbody tr th:only-of-type {\n",
       "        vertical-align: middle;\n",
       "    }\n",
       "\n",
       "    .dataframe tbody tr th {\n",
       "        vertical-align: top;\n",
       "    }\n",
       "\n",
       "    .dataframe thead th {\n",
       "        text-align: right;\n",
       "    }\n",
       "</style>\n",
       "<table border=\"1\" class=\"dataframe\">\n",
       "  <thead>\n",
       "    <tr style=\"text-align: right;\">\n",
       "      <th></th>\n",
       "      <th>Month</th>\n",
       "      <th>MinQ</th>\n",
       "      <th>MaxQ</th>\n",
       "      <th>MeanQ</th>\n",
       "    </tr>\n",
       "  </thead>\n",
       "  <tbody>\n",
       "    <tr>\n",
       "      <th>0</th>\n",
       "      <td>1</td>\n",
       "      <td>735.0</td>\n",
       "      <td>1254.0</td>\n",
       "      <td>1010.799988</td>\n",
       "    </tr>\n",
       "    <tr>\n",
       "      <th>1</th>\n",
       "      <td>2</td>\n",
       "      <td>624.0</td>\n",
       "      <td>1101.0</td>\n",
       "      <td>776.299988</td>\n",
       "    </tr>\n",
       "    <tr>\n",
       "      <th>2</th>\n",
       "      <td>3</td>\n",
       "      <td>705.0</td>\n",
       "      <td>1015.0</td>\n",
       "      <td>793.299988</td>\n",
       "    </tr>\n",
       "    <tr>\n",
       "      <th>3</th>\n",
       "      <td>4</td>\n",
       "      <td>1033.0</td>\n",
       "      <td>1369.0</td>\n",
       "      <td>1160.599976</td>\n",
       "    </tr>\n",
       "    <tr>\n",
       "      <th>4</th>\n",
       "      <td>5</td>\n",
       "      <td>686.0</td>\n",
       "      <td>1306.0</td>\n",
       "      <td>1045.699951</td>\n",
       "    </tr>\n",
       "    <tr>\n",
       "      <th>5</th>\n",
       "      <td>6</td>\n",
       "      <td>659.0</td>\n",
       "      <td>902.0</td>\n",
       "      <td>763.400024</td>\n",
       "    </tr>\n",
       "    <tr>\n",
       "      <th>6</th>\n",
       "      <td>7</td>\n",
       "      <td>333.0</td>\n",
       "      <td>802.0</td>\n",
       "      <td>569.099976</td>\n",
       "    </tr>\n",
       "    <tr>\n",
       "      <th>7</th>\n",
       "      <td>8</td>\n",
       "      <td>300.0</td>\n",
       "      <td>1000.0</td>\n",
       "      <td>535.000000</td>\n",
       "    </tr>\n",
       "    <tr>\n",
       "      <th>8</th>\n",
       "      <td>9</td>\n",
       "      <td>632.0</td>\n",
       "      <td>995.0</td>\n",
       "      <td>844.400024</td>\n",
       "    </tr>\n",
       "    <tr>\n",
       "      <th>9</th>\n",
       "      <td>10</td>\n",
       "      <td>937.0</td>\n",
       "      <td>1295.0</td>\n",
       "      <td>1120.099976</td>\n",
       "    </tr>\n",
       "    <tr>\n",
       "      <th>10</th>\n",
       "      <td>11</td>\n",
       "      <td>694.0</td>\n",
       "      <td>1373.0</td>\n",
       "      <td>1065.199951</td>\n",
       "    </tr>\n",
       "    <tr>\n",
       "      <th>11</th>\n",
       "      <td>12</td>\n",
       "      <td>925.0</td>\n",
       "      <td>1377.0</td>\n",
       "      <td>1083.300049</td>\n",
       "    </tr>\n",
       "  </tbody>\n",
       "</table>\n",
       "</div>"
      ],
      "text/plain": [
       "    Month    MinQ    MaxQ        MeanQ\n",
       "0       1   735.0  1254.0  1010.799988\n",
       "1       2   624.0  1101.0   776.299988\n",
       "2       3   705.0  1015.0   793.299988\n",
       "3       4  1033.0  1369.0  1160.599976\n",
       "4       5   686.0  1306.0  1045.699951\n",
       "5       6   659.0   902.0   763.400024\n",
       "6       7   333.0   802.0   569.099976\n",
       "7       8   300.0  1000.0   535.000000\n",
       "8       9   632.0   995.0   844.400024\n",
       "9      10   937.0  1295.0  1120.099976\n",
       "10     11   694.0  1373.0  1065.199951\n",
       "11     12   925.0  1377.0  1083.300049"
      ]
     },
     "execution_count": 4,
     "metadata": {},
     "output_type": "execute_result"
    }
   ],
   "source": [
    "mogren_summary = pd.read_csv(\"Data_Mogren.txt\",\n",
    "                    sep=\"\\t\", usecols=[\"Month\",\"MinQ\",\"MaxQ\",\"MeanQ\"])\n",
    "mogren_summary"
   ]
  },
  {
   "cell_type": "code",
   "execution_count": 5,
   "id": "2eafd6ab-6f99-4f21-84b1-845e0b2df4a6",
   "metadata": {},
   "outputs": [
    {
     "data": {
      "text/html": [
       "<div>\n",
       "<style scoped>\n",
       "    .dataframe tbody tr th:only-of-type {\n",
       "        vertical-align: middle;\n",
       "    }\n",
       "\n",
       "    .dataframe tbody tr th {\n",
       "        vertical-align: top;\n",
       "    }\n",
       "\n",
       "    .dataframe thead th {\n",
       "        text-align: right;\n",
       "    }\n",
       "</style>\n",
       "<table border=\"1\" class=\"dataframe\">\n",
       "  <thead>\n",
       "    <tr style=\"text-align: right;\">\n",
       "      <th></th>\n",
       "      <th>Year</th>\n",
       "      <th>Jan</th>\n",
       "      <th>Feb</th>\n",
       "      <th>Mar</th>\n",
       "      <th>Apr</th>\n",
       "      <th>May</th>\n",
       "      <th>Jun</th>\n",
       "      <th>Jul</th>\n",
       "      <th>Aug</th>\n",
       "      <th>Sep</th>\n",
       "      <th>Oct</th>\n",
       "      <th>Nov</th>\n",
       "      <th>Dec</th>\n",
       "      <th>Avg Annual</th>\n",
       "    </tr>\n",
       "  </thead>\n",
       "  <tbody>\n",
       "    <tr>\n",
       "      <th>0</th>\n",
       "      <td>1912</td>\n",
       "      <td>11.20</td>\n",
       "      <td>2.00</td>\n",
       "      <td>0.0</td>\n",
       "      <td>0.0</td>\n",
       "      <td>0.0</td>\n",
       "      <td>48.60</td>\n",
       "      <td>742.0</td>\n",
       "      <td>2609</td>\n",
       "      <td>1284</td>\n",
       "      <td>151.0</td>\n",
       "      <td>52.50</td>\n",
       "      <td>17.20</td>\n",
       "      <td>409.79</td>\n",
       "    </tr>\n",
       "    <tr>\n",
       "      <th>1</th>\n",
       "      <td>1913</td>\n",
       "      <td>12.70</td>\n",
       "      <td>1.24</td>\n",
       "      <td>0.0</td>\n",
       "      <td>0.0</td>\n",
       "      <td>0.0</td>\n",
       "      <td>0.00</td>\n",
       "      <td>221.0</td>\n",
       "      <td>877</td>\n",
       "      <td>652</td>\n",
       "      <td>78.4</td>\n",
       "      <td>12.30</td>\n",
       "      <td>1.87</td>\n",
       "      <td>154.71</td>\n",
       "    </tr>\n",
       "    <tr>\n",
       "      <th>2</th>\n",
       "      <td>1914</td>\n",
       "      <td>0.00</td>\n",
       "      <td>0.00</td>\n",
       "      <td>0.0</td>\n",
       "      <td>0.0</td>\n",
       "      <td>0.0</td>\n",
       "      <td>3.86</td>\n",
       "      <td>586.0</td>\n",
       "      <td>2680</td>\n",
       "      <td>1265</td>\n",
       "      <td>384.0</td>\n",
       "      <td>127.00</td>\n",
       "      <td>30.60</td>\n",
       "      <td>423.04</td>\n",
       "    </tr>\n",
       "    <tr>\n",
       "      <th>3</th>\n",
       "      <td>1915</td>\n",
       "      <td>9.33</td>\n",
       "      <td>1.24</td>\n",
       "      <td>0.0</td>\n",
       "      <td>0.0</td>\n",
       "      <td>0.0</td>\n",
       "      <td>52.50</td>\n",
       "      <td>320.0</td>\n",
       "      <td>1142</td>\n",
       "      <td>1060</td>\n",
       "      <td>255.0</td>\n",
       "      <td>56.30</td>\n",
       "      <td>13.10</td>\n",
       "      <td>242.46</td>\n",
       "    </tr>\n",
       "    <tr>\n",
       "      <th>4</th>\n",
       "      <td>1916</td>\n",
       "      <td>1.87</td>\n",
       "      <td>0.00</td>\n",
       "      <td>0.0</td>\n",
       "      <td>0.0</td>\n",
       "      <td>0.0</td>\n",
       "      <td>30.50</td>\n",
       "      <td>1926.0</td>\n",
       "      <td>4928</td>\n",
       "      <td>2484</td>\n",
       "      <td>574.0</td>\n",
       "      <td>175.00</td>\n",
       "      <td>64.50</td>\n",
       "      <td>848.66</td>\n",
       "    </tr>\n",
       "    <tr>\n",
       "      <th>...</th>\n",
       "      <td>...</td>\n",
       "      <td>...</td>\n",
       "      <td>...</td>\n",
       "      <td>...</td>\n",
       "      <td>...</td>\n",
       "      <td>...</td>\n",
       "      <td>...</td>\n",
       "      <td>...</td>\n",
       "      <td>...</td>\n",
       "      <td>...</td>\n",
       "      <td>...</td>\n",
       "      <td>...</td>\n",
       "      <td>...</td>\n",
       "      <td>...</td>\n",
       "    </tr>\n",
       "    <tr>\n",
       "      <th>66</th>\n",
       "      <td>1978</td>\n",
       "      <td>-9999.00</td>\n",
       "      <td>-9999.00</td>\n",
       "      <td>-9999.0</td>\n",
       "      <td>-9999.0</td>\n",
       "      <td>-9999.0</td>\n",
       "      <td>-9999.00</td>\n",
       "      <td>418.0</td>\n",
       "      <td>1347</td>\n",
       "      <td>594</td>\n",
       "      <td>291.0</td>\n",
       "      <td>17.00</td>\n",
       "      <td>0.00</td>\n",
       "      <td>-9999.00</td>\n",
       "    </tr>\n",
       "    <tr>\n",
       "      <th>67</th>\n",
       "      <td>1979</td>\n",
       "      <td>-9999.00</td>\n",
       "      <td>-9999.00</td>\n",
       "      <td>-9999.0</td>\n",
       "      <td>-9999.0</td>\n",
       "      <td>-9999.0</td>\n",
       "      <td>-9999.00</td>\n",
       "      <td>212.0</td>\n",
       "      <td>963</td>\n",
       "      <td>356</td>\n",
       "      <td>106.0</td>\n",
       "      <td>0.77</td>\n",
       "      <td>0.00</td>\n",
       "      <td>-9999.00</td>\n",
       "    </tr>\n",
       "    <tr>\n",
       "      <th>68</th>\n",
       "      <td>1980</td>\n",
       "      <td>-9999.00</td>\n",
       "      <td>-9999.00</td>\n",
       "      <td>-9999.0</td>\n",
       "      <td>-9999.0</td>\n",
       "      <td>-9999.0</td>\n",
       "      <td>-9999.00</td>\n",
       "      <td>290.0</td>\n",
       "      <td>1877</td>\n",
       "      <td>1033</td>\n",
       "      <td>113.0</td>\n",
       "      <td>17.90</td>\n",
       "      <td>0.00</td>\n",
       "      <td>-9999.00</td>\n",
       "    </tr>\n",
       "    <tr>\n",
       "      <th>69</th>\n",
       "      <td>1981</td>\n",
       "      <td>-9999.00</td>\n",
       "      <td>-9999.00</td>\n",
       "      <td>-9999.0</td>\n",
       "      <td>-9999.0</td>\n",
       "      <td>-9999.0</td>\n",
       "      <td>-9999.00</td>\n",
       "      <td>326.0</td>\n",
       "      <td>1183</td>\n",
       "      <td>1072</td>\n",
       "      <td>239.0</td>\n",
       "      <td>2.31</td>\n",
       "      <td>0.00</td>\n",
       "      <td>-9999.00</td>\n",
       "    </tr>\n",
       "    <tr>\n",
       "      <th>70</th>\n",
       "      <td>1982</td>\n",
       "      <td>-9999.00</td>\n",
       "      <td>-9999.00</td>\n",
       "      <td>-9999.0</td>\n",
       "      <td>-9999.0</td>\n",
       "      <td>-9999.0</td>\n",
       "      <td>-9999.00</td>\n",
       "      <td>151.0</td>\n",
       "      <td>589</td>\n",
       "      <td>288</td>\n",
       "      <td>154.0</td>\n",
       "      <td>10.20</td>\n",
       "      <td>0.00</td>\n",
       "      <td>-9999.00</td>\n",
       "    </tr>\n",
       "  </tbody>\n",
       "</table>\n",
       "<p>71 rows × 14 columns</p>\n",
       "</div>"
      ],
      "text/plain": [
       "    Year      Jan      Feb     Mar     Apr     May      Jun     Jul   Aug  \\\n",
       "0   1912    11.20     2.00     0.0     0.0     0.0    48.60   742.0  2609   \n",
       "1   1913    12.70     1.24     0.0     0.0     0.0     0.00   221.0   877   \n",
       "2   1914     0.00     0.00     0.0     0.0     0.0     3.86   586.0  2680   \n",
       "3   1915     9.33     1.24     0.0     0.0     0.0    52.50   320.0  1142   \n",
       "4   1916     1.87     0.00     0.0     0.0     0.0    30.50  1926.0  4928   \n",
       "..   ...      ...      ...     ...     ...     ...      ...     ...   ...   \n",
       "66  1978 -9999.00 -9999.00 -9999.0 -9999.0 -9999.0 -9999.00   418.0  1347   \n",
       "67  1979 -9999.00 -9999.00 -9999.0 -9999.0 -9999.0 -9999.00   212.0   963   \n",
       "68  1980 -9999.00 -9999.00 -9999.0 -9999.0 -9999.0 -9999.00   290.0  1877   \n",
       "69  1981 -9999.00 -9999.00 -9999.0 -9999.0 -9999.0 -9999.00   326.0  1183   \n",
       "70  1982 -9999.00 -9999.00 -9999.0 -9999.0 -9999.0 -9999.00   151.0   589   \n",
       "\n",
       "     Sep    Oct     Nov    Dec  Avg Annual  \n",
       "0   1284  151.0   52.50  17.20      409.79  \n",
       "1    652   78.4   12.30   1.87      154.71  \n",
       "2   1265  384.0  127.00  30.60      423.04  \n",
       "3   1060  255.0   56.30  13.10      242.46  \n",
       "4   2484  574.0  175.00  64.50      848.66  \n",
       "..   ...    ...     ...    ...         ...  \n",
       "66   594  291.0   17.00   0.00    -9999.00  \n",
       "67   356  106.0    0.77   0.00    -9999.00  \n",
       "68  1033  113.0   17.90   0.00    -9999.00  \n",
       "69  1072  239.0    2.31   0.00    -9999.00  \n",
       "70   288  154.0   10.20   0.00    -9999.00  \n",
       "\n",
       "[71 rows x 14 columns]"
      ]
     },
     "execution_count": 5,
     "metadata": {},
     "output_type": "execute_result"
    }
   ],
   "source": [
    "atbara_70_years = pd.read_csv(\"Data_Atbara.txt\",\n",
    "                    skiprows=14, skipfooter=3,engine=\"python\", sep=\"\\t\")\n",
    "atbara_70_years"
   ]
  },
  {
   "cell_type": "code",
   "execution_count": 6,
   "id": "6a5e5c9a-edfb-42e6-b25f-3f5218dc41bd",
   "metadata": {},
   "outputs": [
    {
     "data": {
      "text/plain": [
       "0      111\n",
       "1       72\n",
       "2       56\n",
       "3       55\n",
       "4       86\n",
       "5      254\n",
       "6     1006\n",
       "7     2160\n",
       "8     1698\n",
       "9      932\n",
       "10     377\n",
       "11     195\n",
       "dtype: int64"
      ]
     },
     "execution_count": 6,
     "metadata": {},
     "output_type": "execute_result"
    }
   ],
   "source": [
    "q_blue_nile_average = pd.Series([111,\n",
    "                                72,\n",
    "                                56,\n",
    "                                55,\n",
    "                                86,\n",
    "                                254,\n",
    "                                1006,\n",
    "                                2160,\n",
    "                                1698,\n",
    "                                932,\n",
    "                                377,\n",
    "                                195])\n",
    "q_blue_nile_average"
   ]
  },
  {
   "cell_type": "markdown",
   "id": "e09c805d-b162-4073-8c18-70ebaed00b3e",
   "metadata": {},
   "source": [
    "## Let's complete 20 years of monthly data in the most basic fashion:\n",
    "By repeating the average flows for the 12 months"
   ]
  },
  {
   "cell_type": "code",
   "execution_count": 7,
   "id": "0e24f30f-427c-48f9-a490-e4a9db244e06",
   "metadata": {},
   "outputs": [
    {
     "data": {
      "text/plain": [
       "0       111\n",
       "1        72\n",
       "2        56\n",
       "3        55\n",
       "4        86\n",
       "       ... \n",
       "235    2160\n",
       "236    1698\n",
       "237     932\n",
       "238     377\n",
       "239     195\n",
       "Length: 240, dtype: int64"
      ]
     },
     "execution_count": 7,
     "metadata": {},
     "output_type": "execute_result"
    }
   ],
   "source": [
    "repeated_blue_nile = pd.Series(list(q_blue_nile_average) * 20)\n",
    "repeated_blue_nile"
   ]
  },
  {
   "cell_type": "markdown",
   "id": "36961756-3422-44a2-94d5-5bde8840422f",
   "metadata": {},
   "source": [
    "Total yearly input to th system in **BCM**"
   ]
  },
  {
   "cell_type": "code",
   "execution_count": 8,
   "id": "1926251e-e279-4d36-81c3-cd34acf7cd0e",
   "metadata": {},
   "outputs": [
    {
     "data": {
      "text/plain": [
       "18.401256"
      ]
     },
     "execution_count": 8,
     "metadata": {},
     "output_type": "execute_result"
    }
   ],
   "source": [
    "repeated_blue_nile.mean()*3600*24*365/1000000000"
   ]
  },
  {
   "cell_type": "code",
   "execution_count": 9,
   "id": "f505966d-f1f1-40fe-9e7c-c199afe5783b",
   "metadata": {},
   "outputs": [
    {
     "data": {
      "text/plain": [
       "0      1010.799988\n",
       "1       776.299988\n",
       "2       793.299988\n",
       "3      1160.599976\n",
       "4      1045.699951\n",
       "          ...     \n",
       "235     535.000000\n",
       "236     844.400024\n",
       "237    1120.099976\n",
       "238    1065.199951\n",
       "239    1083.300049\n",
       "Length: 240, dtype: float64"
      ]
     },
     "execution_count": 9,
     "metadata": {},
     "output_type": "execute_result"
    }
   ],
   "source": [
    "repeated_mogren = pd.Series(list(mogren_summary[\"MeanQ\"]) * 20)\n",
    "repeated_mogren"
   ]
  },
  {
   "cell_type": "code",
   "execution_count": 10,
   "id": "3a42f303-fe73-4e8b-9c89-556dffe3e801",
   "metadata": {},
   "outputs": [
    {
     "data": {
      "text/plain": [
       "28.296201313548003"
      ]
     },
     "execution_count": 10,
     "metadata": {},
     "output_type": "execute_result"
    }
   ],
   "source": [
    "repeated_mogren.mean()*3600*24*365/1000000000"
   ]
  },
  {
   "cell_type": "code",
   "execution_count": 11,
   "id": "b7899c14-d290-4fb7-beda-8c78510851cb",
   "metadata": {},
   "outputs": [
    {
     "data": {
      "text/plain": [
       "Index(['Year', 'Jan', 'Feb', 'Mar', 'Apr', 'May', 'Jun', 'Jul', 'Aug', 'Sep',\n",
       "       'Oct', 'Nov', 'Dec', 'Avg Annual'],\n",
       "      dtype='object')"
      ]
     },
     "execution_count": 11,
     "metadata": {},
     "output_type": "execute_result"
    }
   ],
   "source": [
    "atbara_70_years.columns"
   ]
  },
  {
   "cell_type": "code",
   "execution_count": 12,
   "id": "6918c1aa-54fb-4798-9ab0-dcd5f1631175",
   "metadata": {},
   "outputs": [
    {
     "data": {
      "text/plain": [
       "['Jan',\n",
       " 'Feb',\n",
       " 'Mar',\n",
       " 'Apr',\n",
       " 'May',\n",
       " 'Jun',\n",
       " 'Jul',\n",
       " 'Aug',\n",
       " 'Sep',\n",
       " 'Oct',\n",
       " 'Nov',\n",
       " 'Dec']"
      ]
     },
     "execution_count": 12,
     "metadata": {},
     "output_type": "execute_result"
    }
   ],
   "source": [
    "months = list(atbara_70_years.columns[1:13])\n",
    "months"
   ]
  },
  {
   "cell_type": "code",
   "execution_count": 13,
   "id": "4dadcf77-e7bd-426e-bc31-0c0f41c343cd",
   "metadata": {},
   "outputs": [
    {
     "data": {
      "text/plain": [
       "[7.712786885245902,\n",
       " 3.004426229508197,\n",
       " 0.4216393442622951,\n",
       " 1.4672131147540983,\n",
       " 2.970983606557377,\n",
       " 28.256393442622947,\n",
       " 592.7859154929578,\n",
       " 1979.0281690140846,\n",
       " 1301.619718309859,\n",
       " 304.04647887323944,\n",
       " 63.12239436619718,\n",
       " 28.43633802816902]"
      ]
     },
     "execution_count": 13,
     "metadata": {},
     "output_type": "execute_result"
    }
   ],
   "source": [
    "mean_atbara = list()\n",
    "for month in months:\n",
    "    mean_atbara.append(np.mean\\\n",
    "        (list(filter(lambda x: x != -9999, atbara_70_years[month]))))\n",
    "    \n",
    "mean_atbara"
   ]
  },
  {
   "cell_type": "code",
   "execution_count": 14,
   "id": "0ff0d534-04d3-4524-bb7f-16ea612480b2",
   "metadata": {},
   "outputs": [
    {
     "data": {
      "text/plain": [
       "0         7.712787\n",
       "1         3.004426\n",
       "2         0.421639\n",
       "3         1.467213\n",
       "4         2.970984\n",
       "          ...     \n",
       "235    1979.028169\n",
       "236    1301.619718\n",
       "237     304.046479\n",
       "238      63.122394\n",
       "239      28.436338\n",
       "Length: 240, dtype: float64"
      ]
     },
     "execution_count": 14,
     "metadata": {},
     "output_type": "execute_result"
    }
   ],
   "source": [
    "repeated_atbara = pd.Series(mean_atbara * 20)\n",
    "repeated_atbara"
   ]
  },
  {
   "cell_type": "code",
   "execution_count": 15,
   "id": "7bd2dc9c-2212-4beb-a7e1-9c93fca55f8d",
   "metadata": {},
   "outputs": [
    {
     "data": {
      "text/plain": [
       "11.3342288162272"
      ]
     },
     "execution_count": 15,
     "metadata": {},
     "output_type": "execute_result"
    }
   ],
   "source": [
    "repeated_atbara.mean()*3600*24*365/1000000000"
   ]
  },
  {
   "cell_type": "code",
   "execution_count": 16,
   "id": "0b72a855-f959-4ef3-90f5-0a1534e895b9",
   "metadata": {},
   "outputs": [
    {
     "data": {
      "text/plain": [
       "0      1018.512775\n",
       "1       779.304414\n",
       "2       793.721627\n",
       "3      1162.067189\n",
       "4      1048.670935\n",
       "          ...     \n",
       "235    2514.028169\n",
       "236    2146.019742\n",
       "237    1424.146455\n",
       "238    1128.322345\n",
       "239    1111.736387\n",
       "Length: 240, dtype: float64"
      ]
     },
     "execution_count": 16,
     "metadata": {},
     "output_type": "execute_result"
    }
   ],
   "source": [
    "repeated_atbara + repeated_mogren"
   ]
  },
  {
   "cell_type": "markdown",
   "id": "a04bf766-854c-48fe-9e65-78223521669d",
   "metadata": {},
   "source": [
    "## Collect the streamflow/gaging data from different sources in a dictionary:"
   ]
  },
  {
   "cell_type": "markdown",
   "id": "2318ad18-8514-45fd-b2c2-9421150e6077",
   "metadata": {},
   "source": [
    "Function for summing up the small numbered inflows in one Wheeler data frame to get the catchment inflows in my model:"
   ]
  },
  {
   "cell_type": "code",
   "execution_count": 17,
   "id": "bd098d26-b53f-4a4b-a36e-4a8914238eee",
   "metadata": {},
   "outputs": [],
   "source": [
    "def get_usable_inflows(raw_inflow_dict):\n",
    "    \"\"\"Sums the separate inflows which is received in the form of dict,\n",
    "    and returns a dict of time-series inflows with the name in the model\n",
    "    \"\"\"\n",
    "    \n",
    "    output = dict()\n",
    "    output[\"qDinder\"] = raw_inflow_dict[\"340\"] + raw_inflow_dict[\"635\"] + \\\n",
    "        raw_inflow_dict[\"1308\"]\n",
    "    output[\"qRahad\"] = raw_inflow_dict[\"243\"] + raw_inflow_dict[\"519\"] + \\\n",
    "        raw_inflow_dict[\"524\"]\n",
    "    output[\"qGERDToRoseires\"] = raw_inflow_dict[\"33\"] + raw_inflow_dict[\"530\"] + \\\n",
    "        raw_inflow_dict[\"1374\"]\n",
    "    output[\"qRoseiresToAbuNaama\"] = raw_inflow_dict[\"1309\"]\n",
    "    output[\"qSukiToSennar\"] = raw_inflow_dict[\"470\"]\n",
    "    output[\"qWhiteNile\"] = raw_inflow_dict[\"1364\"] + raw_inflow_dict[\"1338\"] + \\\n",
    "        raw_inflow_dict[\"1317\"] + raw_inflow_dict[\"31\"] + raw_inflow_dict[\"Mogren\"]\n",
    "    output[\"qAtbara\"] = raw_inflow_dict[\"Atbara\"]\n",
    "    output[\"qBlueNile\"] = raw_inflow_dict[\"BlueNile\"]\n",
    "    \n",
    "    return output\n",
    "    "
   ]
  },
  {
   "cell_type": "markdown",
   "id": "aa3b7761-f645-4521-9706-936ed4fbde1d",
   "metadata": {},
   "source": [
    "Function that acquires the necessary small inflows from a Wheeler dataframe:"
   ]
  },
  {
   "cell_type": "code",
   "execution_count": 18,
   "id": "b4307839-b54f-49eb-8ba5-038e6409ef3d",
   "metadata": {},
   "outputs": [],
   "source": [
    "def get_raw_flows_from_df(full_df, sim_horizon, needed_flows):\n",
    "    flows = dict()\n",
    "    for number in needed_flows:\n",
    "        series = full_df[f\"{str(number)}.Inflow\"]\n",
    "        needed_slice = series[:sim_horizon*12]\n",
    "        flows[str(number)] = needed_slice\n",
    "        \n",
    "    return flows"
   ]
  },
  {
   "cell_type": "code",
   "execution_count": 19,
   "id": "edf0ebe3-4435-40e3-ac2a-e5416db2b7f2",
   "metadata": {},
   "outputs": [],
   "source": [
    "required_inflows = [340, 635, 1308, 33, 530, 1374, 1309, 470, 1364, 1338, 1317, 31, 243, 519, 524]\n",
    "numbered_flows = get_raw_flows_from_df(data_read[\"Baseline\"][99], 20, required_inflows)"
   ]
  },
  {
   "cell_type": "code",
   "execution_count": 20,
   "id": "fba3a7fb-d5c0-4707-9718-34fec7c09368",
   "metadata": {},
   "outputs": [
    {
     "data": {
      "text/plain": [
       "dict_keys(['340', '635', '1308', '33', '530', '1374', '1309', '470', '1364', '1338', '1317', '31', '243', '519', '524'])"
      ]
     },
     "execution_count": 20,
     "metadata": {},
     "output_type": "execute_result"
    }
   ],
   "source": [
    "numbered_flows.keys()"
   ]
  },
  {
   "cell_type": "code",
   "execution_count": 21,
   "id": "99c9d047-b0cf-4ae1-b009-66dbcd5f573d",
   "metadata": {},
   "outputs": [],
   "source": [
    "unnumbered_flows = {\"Atbara\": repeated_atbara, \"Mogren\": repeated_mogren, \"BlueNile\": repeated_blue_nile}"
   ]
  },
  {
   "cell_type": "code",
   "execution_count": 22,
   "id": "a8afe116-24ab-459a-8890-751f696fd1f6",
   "metadata": {},
   "outputs": [],
   "source": [
    "numbered_flows.update(unnumbered_flows)\n",
    "full_raw_flows = numbered_flows"
   ]
  },
  {
   "cell_type": "code",
   "execution_count": 23,
   "id": "2811b32d-3ada-4ff5-92cc-7f08a67b80ec",
   "metadata": {},
   "outputs": [
    {
     "data": {
      "text/plain": [
       "dict_keys(['340', '635', '1308', '33', '530', '1374', '1309', '470', '1364', '1338', '1317', '31', '243', '519', '524', 'Atbara', 'Mogren', 'BlueNile'])"
      ]
     },
     "execution_count": 23,
     "metadata": {},
     "output_type": "execute_result"
    }
   ],
   "source": [
    "full_raw_flows.keys()"
   ]
  },
  {
   "cell_type": "code",
   "execution_count": 24,
   "id": "737ebf77-95c8-4c9b-88b9-33ad1fbed21e",
   "metadata": {},
   "outputs": [],
   "source": [
    "usable_catchments = get_usable_inflows(full_raw_flows)"
   ]
  },
  {
   "cell_type": "code",
   "execution_count": 25,
   "id": "7b545b9a-3c83-4c46-ba8b-ff81a933e03f",
   "metadata": {},
   "outputs": [
    {
     "data": {
      "text/plain": [
       "dict_keys(['qDinder', 'qRahad', 'qGERDToRoseires', 'qRoseiresToAbuNaama', 'qSukiToSennar', 'qWhiteNile', 'qAtbara', 'qBlueNile'])"
      ]
     },
     "execution_count": 25,
     "metadata": {},
     "output_type": "execute_result"
    }
   ],
   "source": [
    "usable_catchments.keys()"
   ]
  },
  {
   "cell_type": "markdown",
   "id": "0a94b406-15f8-4740-b043-9786f97e578d",
   "metadata": {},
   "source": [
    "## Writing the catchment inflows as with their usable filenames in the Nile model:"
   ]
  },
  {
   "cell_type": "code",
   "execution_count": 26,
   "id": "3e936f9d-06a9-429b-bd95-941802f86721",
   "metadata": {},
   "outputs": [],
   "source": [
    "for catchment in usable_catchments.keys():\n",
    "    with open(f\"produced_data/Inflow{catchment}.txt\", \"w\") as infile:\n",
    "        for element in usable_catchments[catchment]:\n",
    "            infile.write(f\"{element}\\n\")"
   ]
  },
  {
   "cell_type": "code",
   "execution_count": null,
   "id": "24255acc-eee2-4ce3-bf80-d2d39e5af73f",
   "metadata": {},
   "outputs": [],
   "source": []
  },
  {
   "cell_type": "markdown",
   "id": "c0d977cd-f202-4a5c-8459-65df779e1db5",
   "metadata": {},
   "source": [
    "## Let's read the demand to repeat and do basic mass-balance validation:"
   ]
  },
  {
   "cell_type": "code",
   "execution_count": 34,
   "id": "563d58bf-a4aa-47d8-a662-177d6a76f608",
   "metadata": {},
   "outputs": [
    {
     "data": {
      "text/html": [
       "<div>\n",
       "<style scoped>\n",
       "    .dataframe tbody tr th:only-of-type {\n",
       "        vertical-align: middle;\n",
       "    }\n",
       "\n",
       "    .dataframe tbody tr th {\n",
       "        vertical-align: top;\n",
       "    }\n",
       "\n",
       "    .dataframe thead th {\n",
       "        text-align: right;\n",
       "    }\n",
       "</style>\n",
       "<table border=\"1\" class=\"dataframe\">\n",
       "  <thead>\n",
       "    <tr style=\"text-align: right;\">\n",
       "      <th></th>\n",
       "      <th>Unnamed: 0</th>\n",
       "      <th>Upstream Sennar</th>\n",
       "      <th>Gezira Managil</th>\n",
       "      <th>Downstream Sennar</th>\n",
       "      <th>Taminiat to Hassanab</th>\n",
       "      <th>Hassanab to Dongola</th>\n",
       "      <th>Downstream HAD-Egypt</th>\n",
       "    </tr>\n",
       "  </thead>\n",
       "  <tbody>\n",
       "    <tr>\n",
       "      <th>0</th>\n",
       "      <td>Jan</td>\n",
       "      <td>67.577658</td>\n",
       "      <td>319.593787</td>\n",
       "      <td>7.467145</td>\n",
       "      <td>18.667861</td>\n",
       "      <td>28.375149</td>\n",
       "      <td>1310.483871</td>\n",
       "    </tr>\n",
       "    <tr>\n",
       "      <th>1</th>\n",
       "      <td>Feb</td>\n",
       "      <td>66.137566</td>\n",
       "      <td>328.207672</td>\n",
       "      <td>8.267196</td>\n",
       "      <td>12.814153</td>\n",
       "      <td>19.841270</td>\n",
       "      <td>1620.370370</td>\n",
       "    </tr>\n",
       "    <tr>\n",
       "      <th>2</th>\n",
       "      <td>Mar</td>\n",
       "      <td>44.802867</td>\n",
       "      <td>155.316607</td>\n",
       "      <td>10.454002</td>\n",
       "      <td>5.227001</td>\n",
       "      <td>8.213859</td>\n",
       "      <td>1635.304659</td>\n",
       "    </tr>\n",
       "    <tr>\n",
       "      <th>3</th>\n",
       "      <td>Apr</td>\n",
       "      <td>34.722222</td>\n",
       "      <td>26.620370</td>\n",
       "      <td>11.574074</td>\n",
       "      <td>4.629630</td>\n",
       "      <td>6.944444</td>\n",
       "      <td>1589.506173</td>\n",
       "    </tr>\n",
       "    <tr>\n",
       "      <th>4</th>\n",
       "      <td>May</td>\n",
       "      <td>35.095579</td>\n",
       "      <td>51.523297</td>\n",
       "      <td>12.320789</td>\n",
       "      <td>7.093787</td>\n",
       "      <td>10.827360</td>\n",
       "      <td>1896.654719</td>\n",
       "    </tr>\n",
       "    <tr>\n",
       "      <th>5</th>\n",
       "      <td>Jun</td>\n",
       "      <td>77.160494</td>\n",
       "      <td>254.243827</td>\n",
       "      <td>12.731481</td>\n",
       "      <td>14.660494</td>\n",
       "      <td>22.376543</td>\n",
       "      <td>2438.271605</td>\n",
       "    </tr>\n",
       "    <tr>\n",
       "      <th>6</th>\n",
       "      <td>Jul</td>\n",
       "      <td>97.446237</td>\n",
       "      <td>349.835723</td>\n",
       "      <td>8.960573</td>\n",
       "      <td>13.440860</td>\n",
       "      <td>20.161290</td>\n",
       "      <td>2523.894863</td>\n",
       "    </tr>\n",
       "    <tr>\n",
       "      <th>7</th>\n",
       "      <td>Aug</td>\n",
       "      <td>93.712664</td>\n",
       "      <td>176.971326</td>\n",
       "      <td>7.093787</td>\n",
       "      <td>10.827360</td>\n",
       "      <td>16.054361</td>\n",
       "      <td>2202.807646</td>\n",
       "    </tr>\n",
       "    <tr>\n",
       "      <th>8</th>\n",
       "      <td>Sept</td>\n",
       "      <td>132.330247</td>\n",
       "      <td>361.882716</td>\n",
       "      <td>10.416667</td>\n",
       "      <td>20.447531</td>\n",
       "      <td>30.478395</td>\n",
       "      <td>1601.080247</td>\n",
       "    </tr>\n",
       "    <tr>\n",
       "      <th>9</th>\n",
       "      <td>Oct</td>\n",
       "      <td>148.222820</td>\n",
       "      <td>388.291517</td>\n",
       "      <td>11.200717</td>\n",
       "      <td>25.014934</td>\n",
       "      <td>37.709080</td>\n",
       "      <td>1452.359618</td>\n",
       "    </tr>\n",
       "    <tr>\n",
       "      <th>10</th>\n",
       "      <td>Nov</td>\n",
       "      <td>141.975309</td>\n",
       "      <td>357.253086</td>\n",
       "      <td>10.030864</td>\n",
       "      <td>25.848765</td>\n",
       "      <td>38.966049</td>\n",
       "      <td>1481.481481</td>\n",
       "    </tr>\n",
       "    <tr>\n",
       "      <th>11</th>\n",
       "      <td>Dec</td>\n",
       "      <td>82.885305</td>\n",
       "      <td>344.235364</td>\n",
       "      <td>7.093787</td>\n",
       "      <td>23.148148</td>\n",
       "      <td>35.095579</td>\n",
       "      <td>1355.286738</td>\n",
       "    </tr>\n",
       "  </tbody>\n",
       "</table>\n",
       "</div>"
      ],
      "text/plain": [
       "   Unnamed: 0  Upstream Sennar  Gezira Managil  Downstream Sennar  \\\n",
       "0         Jan        67.577658      319.593787           7.467145   \n",
       "1         Feb        66.137566      328.207672           8.267196   \n",
       "2         Mar        44.802867      155.316607          10.454002   \n",
       "3         Apr        34.722222       26.620370          11.574074   \n",
       "4         May        35.095579       51.523297          12.320789   \n",
       "5         Jun        77.160494      254.243827          12.731481   \n",
       "6         Jul        97.446237      349.835723           8.960573   \n",
       "7         Aug        93.712664      176.971326           7.093787   \n",
       "8        Sept       132.330247      361.882716          10.416667   \n",
       "9         Oct       148.222820      388.291517          11.200717   \n",
       "10        Nov       141.975309      357.253086          10.030864   \n",
       "11        Dec        82.885305      344.235364           7.093787   \n",
       "\n",
       "    Taminiat to Hassanab  Hassanab to Dongola  Downstream HAD-Egypt  \n",
       "0              18.667861            28.375149           1310.483871  \n",
       "1              12.814153            19.841270           1620.370370  \n",
       "2               5.227001             8.213859           1635.304659  \n",
       "3               4.629630             6.944444           1589.506173  \n",
       "4               7.093787            10.827360           1896.654719  \n",
       "5              14.660494            22.376543           2438.271605  \n",
       "6              13.440860            20.161290           2523.894863  \n",
       "7              10.827360            16.054361           2202.807646  \n",
       "8              20.447531            30.478395           1601.080247  \n",
       "9              25.014934            37.709080           1452.359618  \n",
       "10             25.848765            38.966049           1481.481481  \n",
       "11             23.148148            35.095579           1355.286738  "
      ]
     },
     "execution_count": 34,
     "metadata": {},
     "output_type": "execute_result"
    }
   ],
   "source": [
    "full_demand = pd.read_csv(\"IrrigationDemands.csv\")\n",
    "full_demand"
   ]
  },
  {
   "cell_type": "code",
   "execution_count": 35,
   "id": "540d15b9-1509-46d8-9f5e-250409853f49",
   "metadata": {},
   "outputs": [],
   "source": [
    "model_names = [\"USSennar\", \"Gezira\", \"DSSennar\", \"Taminiat\", \"Hassanab\", \"Egypt\"]"
   ]
  },
  {
   "cell_type": "code",
   "execution_count": 37,
   "id": "462d1cf7-3396-4c35-8217-e103a060e6ad",
   "metadata": {},
   "outputs": [],
   "source": [
    "demand_series = dict()\n",
    "for i, column in enumerate(full_demand.columns[1:]):\n",
    "    one_year_series = full_demand[column]\n",
    "    demand_series[model_names[i]] = pd.Series(list(one_year_series) * 20)\n"
   ]
  },
  {
   "cell_type": "code",
   "execution_count": 40,
   "id": "3145d8f8-cdd8-49ab-8dc1-46ea2d68cbf3",
   "metadata": {},
   "outputs": [
    {
     "data": {
      "text/plain": [
       "0      1310.483871\n",
       "1      1620.370370\n",
       "2      1635.304659\n",
       "3      1589.506173\n",
       "4      1896.654719\n",
       "          ...     \n",
       "235    2202.807646\n",
       "236    1601.080247\n",
       "237    1452.359618\n",
       "238    1481.481481\n",
       "239    1355.286738\n",
       "Length: 240, dtype: float64"
      ]
     },
     "execution_count": 40,
     "metadata": {},
     "output_type": "execute_result"
    }
   ],
   "source": [
    "demand_series[\"Egypt\"]"
   ]
  },
  {
   "cell_type": "code",
   "execution_count": 41,
   "id": "2d7e8a5a-cf99-4ba7-aaf6-66eab22556d2",
   "metadata": {},
   "outputs": [],
   "source": [
    "for demand_zone in demand_series.keys():\n",
    "    with open(f\"produced_data/IrrDemand{demand_zone}.txt\", \"w\") as infile:\n",
    "        for element in demand_series[demand_zone]:\n",
    "            infile.write(f\"{element}\\n\")"
   ]
  },
  {
   "cell_type": "markdown",
   "id": "a3ab4852-cfbf-4762-a825-8b83a2f91a23",
   "metadata": {},
   "source": [
    "## Do quick mass-balance validation by summing all demands and inflows:"
   ]
  },
  {
   "cell_type": "code",
   "execution_count": 43,
   "id": "6672f588-dd86-4a3a-86e3-40ee56aa8e05",
   "metadata": {},
   "outputs": [],
   "source": [
    "total_demand_series = 0\n",
    "for demand in demand_series.values():\n",
    "    total_demand_series += demand\n",
    "total_inflow_series = 0\n",
    "for catchment in usable_catchments.values():\n",
    "    total_inflow_series += catchment"
   ]
  },
  {
   "cell_type": "code",
   "execution_count": 47,
   "id": "64918084-17b2-4462-8771-3b246d9b54f1",
   "metadata": {},
   "outputs": [
    {
     "data": {
      "text/plain": [
       "<AxesSubplot:>"
      ]
     },
     "execution_count": 47,
     "metadata": {},
     "output_type": "execute_result"
    },
    {
     "data": {
      "image/png": "[encoded data removed]",
      "text/plain": [
       "<Figure size 432x288 with 1 Axes>"
      ]
     },
     "metadata": {
      "needs_background": "light"
     },
     "output_type": "display_data"
    }
   ],
   "source": [
    "total_demand_series.plot.line()"
   ]
  },
  {
   "cell_type": "code",
   "execution_count": 46,
   "id": "6aa17d22-0ec6-4f9a-b82a-b928f6521f3f",
   "metadata": {},
   "outputs": [
    {
     "data": {
      "text/plain": [
       "<AxesSubplot:>"
      ]
     },
     "execution_count": 46,
     "metadata": {},
     "output_type": "execute_result"
    },
    {
     "data": {
      "image/png": "[encoded data removed]",
      "text/plain": [
       "<Figure size 432x288 with 1 Axes>"
      ]
     },
     "metadata": {
      "needs_background": "light"
     },
     "output_type": "display_data"
    }
   ],
   "source": [
    "total_inflow_series.plot.line()"
   ]
  },
  {
   "cell_type": "code",
   "execution_count": 53,
   "id": "be9df798-1801-438d-aec7-a778fd9bde08",
   "metadata": {},
   "outputs": [
    {
     "data": {
      "image/png": "[encoded data removed]",
      "text/plain": [
       "<Figure size 432x288 with 1 Axes>"
      ]
     },
     "metadata": {
      "needs_background": "light"
     },
     "output_type": "display_data"
    }
   ],
   "source": [
    "fig, ax = plt.subplots()\n",
    "ax.plot(total_demand_series[0:12], label='demand')\n",
    "ax.plot(total_inflow_series[0:12], label='inflow')\n",
    "ax.legend()\n",
    "plt.show()"
   ]
  },
  {
   "cell_type": "code",
   "execution_count": 54,
   "id": "84550a2b-3a6c-4197-abcc-2ee9f319b794",
   "metadata": {},
   "outputs": [],
   "source": [
    "import handcalcs.render"
   ]
  },
  {
   "cell_type": "code",
   "execution_count": 56,
   "id": "7ab15680-bde7-4304-a09b-9ad33073d806",
   "metadata": {},
   "outputs": [
    {
     "name": "stdout",
     "output_type": "stream",
     "text": [
      "\\[\n",
      "\\begin{aligned}\n",
      "a &= 2 \\; \n",
      "\\\\[10pt]\n",
      "b &= 3 \\; \n",
      "\\\\[10pt]\n",
      "c &= 2 \\cdot a + \\frac{ b }{ 3 }  = 2 \\cdot 2 + \\frac{ 3 }{ 3 } &= 5.0  \n",
      "\\end{aligned}\n",
      "\\]\n"
     ]
    }
   ],
   "source": [
    "%%tex\n",
    "a = 2\n",
    "b = 3\n",
    "c = 2*a + b/3"
   ]
  },
  {
   "cell_type": "code",
   "execution_count": null,
   "id": "33c300f1-1d46-4740-ac08-462432e00935",
   "metadata": {},
   "outputs": [],
   "source": []
  }
 ],
 "metadata": {
  "kernelspec": {
   "display_name": "Python 3 (ipykernel)",
   "language": "python",
   "name": "python3"
  },
  "language_info": {
   "codemirror_mode": {
    "name": "ipython",
    "version": 3
   },
   "file_extension": ".py",
   "mimetype": "text/x-python",
   "name": "python",
   "nbconvert_exporter": "python",
   "pygments_lexer": "ipython3",
   "version": "3.9.7"
  }
 },
 "nbformat": 4,
 "nbformat_minor": 5
}
