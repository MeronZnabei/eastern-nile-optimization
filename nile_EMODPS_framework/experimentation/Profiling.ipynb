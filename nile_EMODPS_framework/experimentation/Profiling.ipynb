{
 "cells": [
  {
   "cell_type": "markdown",
   "metadata": {
    "pycharm": {
     "name": "#%% md\n"
    }
   },
   "source": [
    "# Profiling notebook\n",
    "This notebook is used for testing the time it takes to run the Nile model."
   ]
  },
  {
   "cell_type": "code",
   "execution_count": 1,
   "metadata": {},
   "outputs": [],
   "source": [
    "import os\n",
    "import numpy as np\n",
    "import pandas as pd\n",
    "\n",
    "import sys\n",
    "\n",
    "module_path = os.path.abspath(os.path.join(\"..\"))\n",
    "if module_path not in sys.path:\n",
    "    sys.path.append(module_path)\n",
    "\n",
    "from model.model_nile import ModelNile"
   ]
  },
  {
   "cell_type": "code",
   "execution_count": 2,
   "metadata": {},
   "outputs": [
    {
     "name": "stdout",
     "output_type": "stream",
     "text": [
      "Network node of IrrigationDistrict Egypt is a sink\n"
     ]
    }
   ],
   "source": [
    "model = ModelNile()"
   ]
  },
  {
   "cell_type": "code",
   "execution_count": 3,
   "metadata": {},
   "outputs": [
    {
     "data": {
      "text/plain": [
       "205"
      ]
     },
     "execution_count": 3,
     "metadata": {},
     "output_type": "execute_result"
    }
   ],
   "source": [
    "model.overarching_policy.get_total_parameter_count()"
   ]
  },
  {
   "cell_type": "code",
   "execution_count": 4,
   "metadata": {},
   "outputs": [],
   "source": [
    "test_parameters = np.repeat(0.5, 205)"
   ]
  },
  {
   "cell_type": "code",
   "execution_count": 5,
   "metadata": {},
   "outputs": [],
   "source": [
    "# model.evaluate(test_parameters)"
   ]
  },
  {
   "cell_type": "code",
   "execution_count": 6,
   "metadata": {},
   "outputs": [
    {
     "name": "stdout",
     "output_type": "stream",
     "text": [
      "         352642361 function calls (352570211 primitive calls) in 173.403 seconds\n",
      "\n",
      "   Ordered by: standard name\n",
      "\n",
      "   ncalls  tottime  percall  cumtime  percall filename:lineno(function)\n",
      "       30    0.000    0.000    0.000    0.000 <__array_function__ internals>:177(amin)\n",
      "    36000    0.019    0.000    0.387    0.000 <__array_function__ internals>:177(append)\n",
      "    36000    0.024    0.000    0.169    0.000 <__array_function__ internals>:177(concatenate)\n",
      "    36004    0.019    0.000    0.625    0.000 <__array_function__ internals>:177(mean)\n",
      "    36000    0.016    0.000    0.107    0.000 <__array_function__ internals>:177(ravel)\n",
      "       30    0.000    0.000    0.000    0.000 <__array_function__ internals>:177(repeat)\n",
      "       90    0.000    0.000    0.002    0.000 <__array_function__ internals>:177(sum)\n",
      "        1    0.000    0.000  173.403  173.403 <string>:1(<module>)\n",
      "       30    0.000    0.000    0.000    0.000 _dtype.py:24(_kind_name)\n",
      "       30    0.000    0.000    0.000    0.000 _dtype.py:314(_name_includes_bit_suffix)\n",
      "       30    0.000    0.000    0.000    0.000 _dtype.py:328(_name_get)\n",
      "    36004    0.235    0.000    0.495    0.000 _methods.py:162(_mean)\n",
      "       30    0.000    0.000    0.000    0.000 _methods.py:54(_any)\n",
      "    36004    0.083    0.000    0.090    0.000 _methods.py:66(_count_reduce_items)\n",
      "       30    0.001    0.000    0.001    0.000 base.py:2018(is_unique)\n",
      "      150    0.000    0.000    0.001    0.000 base.py:2130(is_floating)\n",
      "       30    0.000    0.000    0.001    0.000 base.py:2382(inferred_type)\n",
      "      150    0.000    0.000    0.002    0.000 base.py:3317(get_loc)\n",
      "       60    0.000    0.000    0.000    0.000 base.py:41(shape)\n",
      "      180    0.000    0.000    0.000    0.000 base.py:43(<genexpr>)\n",
      "       60    0.000    0.000    0.000    0.000 base.py:4379(_values)\n",
      "       30    0.000    0.000    0.000    0.000 base.py:4405(_get_engine_target)\n",
      "      150    0.000    0.000    0.000    0.000 base.py:4537(__contains__)\n",
      "      150    0.000    0.000    0.000    0.000 base.py:4587(__getitem__)\n",
      "      150    0.000    0.000    0.001    0.000 base.py:5696(_maybe_cast_indexer)\n",
      "       30    0.000    0.000    0.000    0.000 base.py:767(_engine)\n",
      "       30    0.000    0.000    0.000    0.000 base.py:774(<lambda>)\n",
      "       90    0.000    0.000    0.000    0.000 base.py:794(__len__)\n",
      "      150    0.000    0.000    0.001    0.000 blocks.py:1853(maybe_coerce_values)\n",
      "       30    0.000    0.000    0.000    0.000 blocks.py:238(mgr_locs)\n",
      "      150    0.000    0.000    0.000    0.000 blocks.py:349(iget)\n",
      "      300    0.000    0.000    0.000    0.000 common.py:155(cast_scalar_indexer)\n",
      "      150    0.000    0.000    0.000    0.000 common.py:1718(validate_all_hashable)\n",
      "      300    0.000    0.000    0.000    0.000 common.py:1737(<genexpr>)\n",
      "      150    0.000    0.000    0.000    0.000 common.py:346(apply_if_callable)\n",
      "      150    0.000    0.000    0.000    0.000 construction.py:369(extract_array)\n",
      "      150    0.000    0.000    0.000    0.000 construction.py:431(ensure_wrapped_if_datetimelike)\n",
      "   223260    0.032    0.000    0.032    0.000 coreviews.py:44(__init__)\n",
      "       30    0.000    0.000    0.000    0.000 coreviews.py:53(__getitem__)\n",
      "       30    0.000    0.000    0.000    0.000 coreviews.py:81(__getitem__)\n",
      "       30    0.000    0.000    0.000    0.000 digraph.py:323(adj)\n",
      "   115200    0.045    0.000    0.062    0.000 digraph.py:342(succ)\n",
      "   108000    0.038    0.000    0.054    0.000 digraph.py:363(pred)\n",
      "   115200    0.042    0.000    0.192    0.000 digraph.py:839(edges)\n",
      "   108000    0.034    0.000    0.162    0.000 digraph.py:905(in_edges)\n",
      "      150    0.000    0.000    0.000    0.000 flags.py:47(__init__)\n",
      "      150    0.000    0.000    0.000    0.000 flags.py:51(allows_duplicate_labels)\n",
      "      150    0.000    0.000    0.000    0.000 flags.py:83(allows_duplicate_labels)\n",
      "      150    0.001    0.000    0.011    0.000 frame.py:3418(__getitem__)\n",
      "      150    0.000    0.000    0.003    0.000 frame.py:3855(_box_col_values)\n",
      "      150    0.000    0.000    0.009    0.000 frame.py:3871(_get_item_cache)\n",
      "    36000    0.005    0.000    0.005    0.000 fromnumeric.py:1751(_ravel_dispatcher)\n",
      "    36000    0.023    0.000    0.060    0.000 fromnumeric.py:1755(ravel)\n",
      "       90    0.000    0.000    0.000    0.000 fromnumeric.py:2155(_sum_dispatcher)\n",
      "       90    0.000    0.000    0.001    0.000 fromnumeric.py:2160(sum)\n",
      "       30    0.000    0.000    0.000    0.000 fromnumeric.py:2795(_amin_dispatcher)\n",
      "       30    0.000    0.000    0.000    0.000 fromnumeric.py:2800(amin)\n",
      "    36004    0.006    0.000    0.006    0.000 fromnumeric.py:3351(_mean_dispatcher)\n",
      "    36004    0.067    0.000    0.562    0.000 fromnumeric.py:3356(mean)\n",
      "       30    0.000    0.000    0.000    0.000 fromnumeric.py:38(_wrapit)\n",
      "       30    0.000    0.000    0.000    0.000 fromnumeric.py:432(_repeat_dispatcher)\n",
      "       30    0.000    0.000    0.000    0.000 fromnumeric.py:436(repeat)\n",
      "       30    0.000    0.000    0.000    0.000 fromnumeric.py:51(_wrapfunc)\n",
      "      120    0.000    0.000    0.002    0.000 fromnumeric.py:69(_wrapreduction)\n",
      "      120    0.000    0.000    0.000    0.000 fromnumeric.py:70(<dictcomp>)\n",
      "    36000    0.006    0.000    0.006    0.000 function_base.py:5333(_append_dispatcher)\n",
      "    36000    0.042    0.000    0.324    0.000 function_base.py:5337(append)\n",
      "      150    0.000    0.000    0.001    0.000 generic.py:233(__init__)\n",
      "      150    0.000    0.000    0.000    0.000 generic.py:324(attrs)\n",
      "      300    0.000    0.000    0.000    0.000 generic.py:345(flags)\n",
      "      450    0.000    0.000    0.000    0.000 generic.py:43(_check)\n",
      "      150    0.000    0.000    0.001    0.000 generic.py:5435(__finalize__)\n",
      "      450    0.000    0.000    0.000    0.000 generic.py:5473(__getattr__)\n",
      "      450    0.000    0.000    0.001    0.000 generic.py:5489(__setattr__)\n",
      "   223200    0.097    0.000    0.229    0.000 graph.py:1863(nbunch_iter)\n",
      "   446400    0.065    0.000    0.065    0.000 graph.py:1909(bunch_iter)\n",
      "   223200    0.132    0.000    0.132    0.000 graph.py:416(__contains__)\n",
      "       30    0.000    0.000    0.000    0.000 graph.py:452(__getitem__)\n",
      "    29010    0.016    0.000    0.022    0.000 graph.py:661(nodes)\n",
      "      300    0.000    0.000    0.000    0.000 inference.py:321(is_hashable)\n",
      "      150    0.000    0.000    0.000    0.000 managers.py:1539(__init__)\n",
      "      150    0.000    0.000    0.002    0.000 managers.py:158(blknos)\n",
      "      150    0.000    0.000    0.000    0.000 managers.py:1619(_block)\n",
      "      150    0.000    0.000    0.000    0.000 managers.py:1674(internal_values)\n",
      "      150    0.000    0.000    0.000    0.000 managers.py:174(blklocs)\n",
      "       30    0.001    0.000    0.002    0.000 managers.py:224(_rebuild_blknos_and_blklocs)\n",
      "      150    0.001    0.000    0.003    0.000 managers.py:977(iget)\n",
      "    36000    0.029    0.000    0.077    0.000 model_classes.py:195(storage_to_level)\n",
      " 26280000   12.557    0.000   41.213    0.000 model_classes.py:198(storage_to_surface)\n",
      " 26280000   27.378    0.000   68.595    0.000 model_classes.py:203(storage_to_minmax)\n",
      "    36000   42.732    0.001  168.928    0.005 model_classes.py:215(integration)\n",
      "    36000    0.109    0.000    0.214    0.000 model_classes.py:61(calculate_hydroenergy_production)\n",
      "        1    0.002    0.002  173.403  173.403 model_nile.py:153(evaluate)\n",
      "        1    0.000    0.000    0.000    0.000 model_nile.py:175(<dictcomp>)\n",
      "       30    0.016    0.001    0.016    0.001 model_nile.py:183(<listcomp>)\n",
      "       30    0.000    0.000    0.000    0.000 model_nile.py:191(<listcomp>)\n",
      "       30    0.005    0.000    0.005    0.000 model_nile.py:199(<listcomp>)\n",
      "       30    0.799    0.027  173.361    5.779 model_nile.py:219(simulate)\n",
      "     7200    0.006    0.000    0.006    0.000 model_nile.py:237(<listcomp>)\n",
      "     7200    0.007    0.000    0.007    0.000 model_nile.py:249(<dictcomp>)\n",
      "   108000    0.025    0.000    0.025    0.000 model_nile.py:262(<listcomp>)\n",
      "     7200    0.008    0.000    0.008    0.000 model_nile.py:322(<listcomp>)\n",
      "    43200    0.013    0.000    0.030    0.000 model_nile.py:325(deficit_from_target)\n",
      "       30    0.001    0.000    0.002    0.000 model_nile.py:333(reset_parameters)\n",
      "    21720    0.032    0.000    0.199    0.000 model_nile.py:433(objects_by_class)\n",
      "    21720    0.069    0.000    0.118    0.000 model_nile.py:435(<listcomp>)\n",
      "       90    0.000    0.000    0.001    0.000 model_nile.py:445(object_by_name)\n",
      "       90    0.000    0.000    0.000    0.000 model_nile.py:447(<listcomp>)\n",
      "       30    0.000    0.000    0.013    0.000 model_nile.py:455(assign_streamflow_to_catchments)\n",
      "    36000    0.005    0.000    0.005    0.000 multiarray.py:148(concatenate)\n",
      "      150    0.000    0.000    0.000    0.000 numeric.py:296(_is_all_dates)\n",
      "       60    0.000    0.000    0.000    0.000 range.py:806(__len__)\n",
      "   115200    0.053    0.000    0.150    0.000 reportviews.py:1003(__init__)\n",
      "   223200    0.099    0.000    0.723    0.000 reportviews.py:1035(__call__)\n",
      "   108000    0.046    0.000    0.128    0.000 reportviews.py:1161(__init__)\n",
      "    29010    0.006    0.000    0.006    0.000 reportviews.py:177(__init__)\n",
      "    29010    0.013    0.000    0.019    0.000 reportviews.py:204(__call__)\n",
      "    29010    0.006    0.000    0.006    0.000 reportviews.py:249(__init__)\n",
      "    29010    0.016    0.000    0.019    0.000 reportviews.py:267(__iter__)\n",
      "   493170    0.074    0.000    0.074    0.000 reportviews.py:273(<genexpr>)\n",
      "   223200    0.232    0.000    0.624    0.000 reportviews.py:698(__init__)\n",
      "   669600    0.192    0.000    0.297    0.000 reportviews.py:706(<lambda>)\n",
      "   669600    0.106    0.000    0.106    0.000 reportviews.py:706(<listcomp>)\n",
      "   216000    0.036    0.000    0.036    0.000 reportviews.py:717(<lambda>)\n",
      "   446400    0.209    0.000    0.708    0.000 reportviews.py:722(__len__)\n",
      "   892800    0.125    0.000    0.158    0.000 reportviews.py:723(<genexpr>)\n",
      "   115200    0.045    0.000    0.095    0.000 reportviews.py:725(__iter__)\n",
      "   223200    0.075    0.000    0.104    0.000 reportviews.py:726(<genexpr>)\n",
      "   108000    0.042    0.000    0.087    0.000 reportviews.py:808(__iter__)\n",
      "   216000    0.067    0.000    0.091    0.000 reportviews.py:809(<genexpr>)\n",
      "      150    0.000    0.000    0.000    0.000 series.py:1194(_set_as_cached)\n",
      "      150    0.000    0.000    0.002    0.000 series.py:315(__init__)\n",
      "      150    0.000    0.000    0.000    0.000 series.py:528(_set_axis)\n",
      "      150    0.000    0.000    0.000    0.000 series.py:577(name)\n",
      "      150    0.000    0.000    0.000    0.000 series.py:627(name)\n",
      "      150    0.000    0.000    0.000    0.000 series.py:674(_values)\n",
      "      150    0.000    0.000    0.000    0.000 series.py:810(__array__)\n",
      "     7200    0.031    0.000    0.035    0.000 smash.py:114(denormalize_vector)\n",
      "       10    0.000    0.000    0.000    0.000 smash.py:196(__init__)\n",
      "        1    0.000    0.000    0.000    0.000 smash.py:212(set_parameters)\n",
      "        1    0.000    0.000    0.000    0.000 smash.py:234(clear_parameters)\n",
      "     7200    0.497    0.000    0.577    0.000 smash.py:239(get_output)\n",
      "        1    0.000    0.000    0.000    0.000 smash.py:275(get_free_parameter_number)\n",
      "        5    0.000    0.000    0.000    0.000 smash.py:289(set_parameters)\n",
      "        5    0.000    0.000    0.000    0.000 smash.py:293(get_free_parameter_number)\n",
      "    36000    0.028    0.000    0.038    0.000 smash.py:296(get_output)\n",
      "        1    0.000    0.000    0.000    0.000 smash.py:46(assign_free_parameters)\n",
      "     7200    0.010    0.000    0.675    0.000 smash.py:79(get_output_norm)\n",
      "     7200    0.047    0.000    0.053    0.000 smash.py:87(normalize_vector)\n",
      " 52596000   12.008    0.000   56.999    0.000 utils.py:9(modified_interp)\n",
      " 26280000    7.644    0.000    7.644    0.000 {built-in method _bisect.bisect_right}\n",
      "      150    0.000    0.000    0.000    0.000 {built-in method builtins.all}\n",
      "      150    0.000    0.000    0.000    0.000 {built-in method builtins.callable}\n",
      "        1    0.000    0.000  173.403  173.403 {built-in method builtins.exec}\n",
      "      630    0.000    0.000    0.000    0.000 {built-in method builtins.getattr}\n",
      "   259204    0.071    0.000    0.187    0.000 {built-in method builtins.hasattr}\n",
      "      450    0.000    0.000    0.000    0.000 {built-in method builtins.hash}\n",
      "    73744    0.014    0.000    0.014    0.000 {built-in method builtins.isinstance}\n",
      "    72188    0.010    0.000    0.010    0.000 {built-in method builtins.issubclass}\n",
      "475890/475740    0.036    0.000    0.036    0.000 {built-in method builtins.len}\n",
      "      120    0.000    0.000    0.000    0.000 {built-in method builtins.locals}\n",
      " 52639200   11.651    0.000   11.651    0.000 {built-in method builtins.max}\n",
      " 26395200    5.550    0.000    5.550    0.000 {built-in method builtins.min}\n",
      "   504000    0.065    0.000    0.065    0.000 {built-in method builtins.pow}\n",
      "     1140    0.000    0.000    0.000    0.000 {built-in method builtins.setattr}\n",
      "   561600    0.297    0.000    0.455    0.000 {built-in method builtins.sum}\n",
      "   223200    0.098    0.000    0.163    0.000 {built-in method fromkeys}\n",
      "    36060    0.083    0.000    0.083    0.000 {built-in method numpy.arange}\n",
      "     7350    0.013    0.000    0.013    0.000 {built-in method numpy.array}\n",
      "   108004    0.045    0.000    0.045    0.000 {built-in method numpy.asanyarray}\n",
      " 52596180    3.344    0.000    3.344    0.000 {built-in method numpy.asarray}\n",
      "144154/72154    0.241    0.000    0.964    0.000 {built-in method numpy.core._multiarray_umath.implement_array_function}\n",
      " 52596000   41.647    0.000   41.647    0.000 {built-in method numpy.core._multiarray_umath.interp}\n",
      "    36004    0.006    0.000    0.006    0.000 {built-in method numpy.core._multiarray_umath.normalize_axis_index}\n",
      "       60    0.000    0.000    0.000    0.000 {built-in method numpy.empty}\n",
      "       30    0.000    0.000    0.000    0.000 {method 'any' of 'numpy.ndarray' objects}\n",
      " 26748310    3.493    0.000    3.493    0.000 {method 'append' of 'array.array' objects}\n",
      "   108000    0.022    0.000    0.022    0.000 {method 'append' of 'collections.deque' objects}\n",
      "       10    0.000    0.000    0.000    0.000 {method 'append' of 'list' objects}\n",
      "        1    0.000    0.000    0.000    0.000 {method 'disable' of '_lsprof.Profiler' objects}\n",
      "       60    0.000    0.000    0.000    0.000 {method 'fill' of 'numpy.ndarray' objects}\n",
      "      150    0.000    0.000    0.000    0.000 {method 'get' of 'dict' objects}\n",
      "      150    0.000    0.000    0.000    0.000 {method 'get_loc' of 'pandas._libs.index.IndexEngine' objects}\n",
      "   252330    0.020    0.000    0.020    0.000 {method 'items' of 'dict' objects}\n",
      "    36000    0.014    0.000    0.014    0.000 {method 'ravel' of 'numpy.ndarray' objects}\n",
      "    36154    0.126    0.000    0.126    0.000 {method 'reduce' of 'numpy.ufunc' objects}\n",
      "       30    0.000    0.000    0.000    0.000 {method 'repeat' of 'numpy.ndarray' objects}\n",
      "       30    0.001    0.000    0.001    0.000 {pandas._libs.lib.infer_dtype}\n",
      "      300    0.000    0.000    0.000    0.000 {pandas._libs.lib.is_float}\n",
      "      150    0.000    0.000    0.000    0.000 {pandas._libs.lib.is_scalar}\n",
      "      150    0.000    0.000    0.000    0.000 {pandas._libs.lib.item_from_zerodim}\n",
      "\n",
      "\n"
     ]
    }
   ],
   "source": [
    "import cProfile\n",
    "\n",
    "cProfile.run(\"model.evaluate(test_parameters)\")"
   ]
  },
  {
   "cell_type": "code",
   "execution_count": 7,
   "metadata": {},
   "outputs": [
    {
     "data": {
      "text/plain": [
       "0"
      ]
     },
     "execution_count": 7,
     "metadata": {},
     "output_type": "execute_result"
    }
   ],
   "source": [
    "from bisect import bisect_right\n",
    "from array import array\n",
    "\n",
    "my_array = array(\"f\", [1, 2, 3, 4, 5])\n",
    "\n",
    "bisect_right(np.array([1, 2, 3, 4, 5]), 0.5)"
   ]
  },
  {
   "cell_type": "code",
   "execution_count": null,
   "metadata": {},
   "outputs": [],
   "source": []
  }
 ],
 "metadata": {
  "interpreter": {
   "hash": "aee8b7b246df8f9039afb4144a1f6fd8d2ca17a180786b69acc140d282b71a49"
  },
  "kernelspec": {
   "display_name": "Python 3",
   "language": "python",
   "name": "python3"
  },
  "language_info": {
   "codemirror_mode": {
    "name": "ipython",
    "version": 3
   },
   "file_extension": ".py",
   "mimetype": "text/x-python",
   "name": "python",
   "nbconvert_exporter": "python",
   "pygments_lexer": "ipython3",
   "version": "3.9.7"
  }
 },
 "nbformat": 4,
 "nbformat_minor": 4
}
