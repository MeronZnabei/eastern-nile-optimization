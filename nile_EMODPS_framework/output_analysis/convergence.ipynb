{
 "cells": [
  {
   "cell_type": "markdown",
   "id": "11753993-80bf-412c-9204-15f532865705",
   "metadata": {},
   "source": [
    "# Testing the optimization run for convergence:"
   ]
  },
  {
   "cell_type": "code",
   "execution_count": 1,
   "id": "820d89a4-be94-453e-9a42-49a6292b7d3d",
   "metadata": {},
   "outputs": [],
   "source": [
    "import os\n",
    "import sys\n",
    "import matplotlib.pyplot as plt\n",
    "import seaborn as sns\n",
    "import pandas as pd\n",
    "import numpy as np\n",
    "\n",
    "from pymoo.factory import (\n",
    "    get_performance_indicator,\n",
    ")  # Used to calculate hypervolume from archivelogged solutions"
   ]
  },
  {
   "cell_type": "code",
   "execution_count": 2,
   "id": "d1f4be7f-ecf7-4c97-a05e-419553510dbe",
   "metadata": {},
   "outputs": [],
   "source": [
    "import matplotlib\n",
    "import matplotlib.font_manager as fm\n",
    "\n",
    "# sns.set(font_scale=1.2)\n",
    "\n",
    "fm.fontManager.addfont(\"Minion Pro Regular.ttf\")\n",
    "matplotlib.rc(\"font\", family=\"Minion Pro\")\n",
    "\n",
    "from matplotlib import rcParams\n",
    "\n",
    "rcParams[\"font.family\"] = \"Minion Pro\"\n",
    "rcParams[\"font.sans-serif\"] = \"Minion Pro\"\n",
    "rcParams[\"font.size\"] = 12"
   ]
  },
  {
   "cell_type": "markdown",
   "id": "cac2ea0c-33bc-47c0-8456-f0e88295acef",
   "metadata": {},
   "source": [
    "## Hypervolume:"
   ]
  },
  {
   "cell_type": "markdown",
   "id": "dd8df428-780b-445b-bd35-d5decb79fdd0",
   "metadata": {},
   "source": [
    "First read the runtime file from the outputs:"
   ]
  },
  {
   "cell_type": "code",
   "execution_count": 3,
   "id": "9ec53c60-54ef-4321-b516-f4957bbcbdb4",
   "metadata": {},
   "outputs": [],
   "source": [
    "seeds = [10, 20, 30, 40, 50]\n",
    "runtimes = dict()\n",
    "for seed in seeds:\n",
    "    with open(\n",
    "        f\"../experimentation/borg_optimization/runtime/runtime_seed_{seed}.txt\"\n",
    "    ) as f:\n",
    "        runtimes[seed] = f.readlines()"
   ]
  },
  {
   "cell_type": "code",
   "execution_count": 6,
   "id": "9d73da10-3ff2-4aef-ab12-152177bcfcbe",
   "metadata": {},
   "outputs": [],
   "source": [
    "seed_nfe_archives = dict()\n",
    "\n",
    "for seed in seeds:\n",
    "    contents = runtimes[seed]\n",
    "\n",
    "    nfe_archive = dict()\n",
    "\n",
    "    for i, line in enumerate(contents):\n",
    "\n",
    "        if line[:5] == \"//NFE\":\n",
    "\n",
    "            nfe_count = int(line[6:-1])\n",
    "            j = i + 1  # With this index, scan lines below //NFE:\n",
    "            batch_of_this_nfe = list()\n",
    "\n",
    "            while j < len(contents) and contents[j][:5] != \"//NFE\":\n",
    "                batch_of_this_nfe.append(contents[j])\n",
    "                j += 1\n",
    "\n",
    "            objective_tuples = []\n",
    "\n",
    "            for obj_line in batch_of_this_nfe:\n",
    "                if obj_line[0] == \" \":  # This means we are a line with obj values\n",
    "                    objective_tuples.append(\n",
    "                        tuple([round(float(x), 2) for x in obj_line.split()])\n",
    "                    )\n",
    "\n",
    "            nfe_archive[nfe_count] = objective_tuples\n",
    "    seed_nfe_archives[seed] = nfe_archive"
   ]
  },
  {
   "cell_type": "code",
   "execution_count": 8,
   "id": "fea0d1eb-f237-4bd8-a5a2-70c8d1fd0ade",
   "metadata": {},
   "outputs": [],
   "source": [
    "# latest_archive = nfe_archive[max(nfe_archive.keys())]\n",
    "\n",
    "best = [\n",
    "    100,\n",
    "    0,\n",
    "    100,\n",
    "    0,\n",
    "]  # Initialize the set of best values with really bad results (the aim is to reach the real best with the for loop)\n",
    "worst = [0, -190, 0, -20]  # Same idea, initialize the worst as something very good\n",
    "\n",
    "for seed in seeds:\n",
    "    nfe_archive = seed_nfe_archives[seed]\n",
    "    for archive_set in nfe_archive.values():\n",
    "\n",
    "        for objective_index in range(4):\n",
    "            obj_values = [solution[objective_index] for solution in archive_set]\n",
    "            minimum = min(obj_values)\n",
    "            maximum = max(obj_values)\n",
    "            if minimum < best[objective_index]:\n",
    "                best[objective_index] = minimum\n",
    "            if maximum > worst[objective_index]:\n",
    "                worst[objective_index] = maximum"
   ]
  },
  {
   "cell_type": "code",
   "execution_count": 9,
   "id": "1c645c25-158d-4e22-b687-d3fdeac5eab7",
   "metadata": {},
   "outputs": [
    {
     "name": "stdout",
     "output_type": "stream",
     "text": [
      "[0.05, -178.16, 0.0, -14.32]\n",
      "[7.6, -153.0, 2.78, -8.83]\n"
     ]
    }
   ],
   "source": [
    "print(best)\n",
    "print(worst)"
   ]
  },
  {
   "cell_type": "code",
   "execution_count": 10,
   "id": "d9e6c729-ec20-4a73-b19e-a6748d4f34ad",
   "metadata": {},
   "outputs": [],
   "source": [
    "# Normalize objectives function makes the best outcome 1, worst 0 for each obj value\n",
    "def normalize_objs(df, worst, best):\n",
    "    for i, col in enumerate(df.columns):\n",
    "        df[col] = (best[i] - df[col]) / (best[i] - worst[i])\n",
    "        # df[col] = 1 - df[col]\n",
    "\n",
    "    return np.array(df)"
   ]
  },
  {
   "cell_type": "code",
   "execution_count": 9,
   "id": "1f237459-ffa5-43f7-9882-1fe1dbc82dd4",
   "metadata": {},
   "outputs": [
    {
     "data": {
      "text/plain": [
       "array([[ 0.36746143,  0.00085034, -0.        ,  0.24074074],\n",
       "       [ 0.43618513,  0.00170068, -0.        ,  0.13148148],\n",
       "       [ 0.01823282,  0.14158163, -0.        ,  0.24259259],\n",
       "       ...,\n",
       "       [ 0.26367461,  0.06802721, -0.        ,  0.04259259],\n",
       "       [ 0.12201964,  0.05569728, -0.        ,  0.2       ],\n",
       "       [ 0.13323983,  0.05952381, -0.        ,  0.16481481]])"
      ]
     },
     "execution_count": 9,
     "metadata": {},
     "output_type": "execute_result"
    }
   ],
   "source": [
    "normalize_objs(pd.DataFrame(nfe_archive[136000]), worst, best)"
   ]
  },
  {
   "cell_type": "code",
   "execution_count": 11,
   "id": "b22e6fff-63d5-4a74-8e1e-558f31039ac8",
   "metadata": {},
   "outputs": [
    {
     "name": "stderr",
     "output_type": "stream",
     "text": [
      "100%|██████████| 200/200 [00:48<00:00,  4.09it/s]\n",
      "100%|██████████| 200/200 [01:11<00:00,  2.80it/s]\n",
      "100%|██████████| 200/200 [00:37<00:00,  5.28it/s]\n",
      "100%|██████████| 200/200 [01:04<00:00,  3.12it/s]\n",
      "100%|██████████| 200/200 [01:00<00:00,  3.33it/s]\n"
     ]
    }
   ],
   "source": [
    "from tqdm import tqdm\n",
    "\n",
    "hypervolumes = dict()\n",
    "for seed in seeds:\n",
    "    nfe_archive = seed_nfe_archives[seed]\n",
    "\n",
    "    # Let's calculate hypervolume per NFE to plot\n",
    "    hvs = []\n",
    "\n",
    "    hv = get_performance_indicator(\n",
    "        \"hv\", ref_point=np.array([1.2, 1.2, 1.2, 1.2])\n",
    "    )  # Reference set, works fine since everything is btwn 0-1\n",
    "\n",
    "    for keys, values in tqdm(nfe_archive.items()):\n",
    "\n",
    "        # print(i, \"I am here NFE\")\n",
    "        hvs.append(hv.do(normalize_objs(pd.DataFrame(values), worst, best)))\n",
    "        # print(i, \"I am here HV\")\n",
    "    hypervolumes[seed] = hvs"
   ]
  },
  {
   "cell_type": "code",
   "execution_count": 18,
   "id": "20fadfa8-ae01-4a31-9fdf-13edaffb1a5a",
   "metadata": {},
   "outputs": [
    {
     "data": {
      "image/png": "[encoded data removed]",
      "text/plain": [
       "<Figure size 800x600 with 1 Axes>"
      ]
     },
     "metadata": {},
     "output_type": "display_data"
    }
   ],
   "source": [
    "fig, ax = plt.subplots(figsize=(8, 6))\n",
    "ax.set_xlabel(\"NFEs\")\n",
    "ax.set_ylabel(\"Hypervolume\")\n",
    "for seed in seeds:\n",
    "    hvs = hypervolumes[seed]\n",
    "    nfe_archive = seed_nfe_archives[seed]\n",
    "    ax.plot(\n",
    "        list(nfe_archive.keys()), hvs, label=f\"Seed = {seed}\"\n",
    "    )  # First 6 distorts the view, giving a wrong sense of convergence\n",
    "ax.legend()\n",
    "plt.savefig(\"../plots/baseline_optimization/hypervolume.pdf\")\n",
    "plt.show()"
   ]
  }
 ],
 "metadata": {
  "kernelspec": {
   "display_name": "Python 3",
   "language": "python",
   "name": "python3"
  },
  "language_info": {
   "codemirror_mode": {
    "name": "ipython",
    "version": 3
   },
   "file_extension": ".py",
   "mimetype": "text/x-python",
   "name": "python",
   "nbconvert_exporter": "python",
   "pygments_lexer": "ipython3",
   "version": "3.9.7"
  },
  "vscode": {
   "interpreter": {
    "hash": "aee8b7b246df8f9039afb4144a1f6fd8d2ca17a180786b69acc140d282b71a49"
   }
  }
 },
 "nbformat": 4,
 "nbformat_minor": 5
}
