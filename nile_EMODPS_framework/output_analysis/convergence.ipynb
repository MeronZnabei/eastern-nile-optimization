{
 "cells": [
  {
   "cell_type": "markdown",
   "id": "11753993-80bf-412c-9204-15f532865705",
   "metadata": {},
   "source": [
    "# Testing the optimization run for convergence:"
   ]
  },
  {
   "cell_type": "code",
   "execution_count": 1,
   "id": "820d89a4-be94-453e-9a42-49a6292b7d3d",
   "metadata": {},
   "outputs": [],
   "source": [
    "import os\n",
    "import sys\n",
    "import matplotlib.pyplot as plt\n",
    "import seaborn as sns\n",
    "import pandas as pd\n",
    "import numpy as np\n",
    "\n",
    "from pymoo.factory import (\n",
    "    get_performance_indicator,\n",
    ")  # Used to calculate hypervolume from archivelogged solutions"
   ]
  },
  {
   "cell_type": "code",
   "execution_count": 2,
   "id": "d1f4be7f-ecf7-4c97-a05e-419553510dbe",
   "metadata": {},
   "outputs": [],
   "source": [
    "import matplotlib\n",
    "import matplotlib.font_manager as fm\n",
    "\n",
    "# sns.set(font_scale=1.2)\n",
    "\n",
    "fm.fontManager.addfont(\"Minion Pro Regular.ttf\")\n",
    "matplotlib.rc(\"font\", family=\"Minion Pro\")\n",
    "\n",
    "from matplotlib import rcParams\n",
    "\n",
    "rcParams[\"font.family\"] = \"Minion Pro\"\n",
    "rcParams[\"font.sans-serif\"] = \"Minion Pro\"\n",
    "rcParams[\"font.size\"] = 12"
   ]
  },
  {
   "cell_type": "markdown",
   "id": "cac2ea0c-33bc-47c0-8456-f0e88295acef",
   "metadata": {},
   "source": [
    "## Hypervolume:"
   ]
  },
  {
   "cell_type": "markdown",
   "id": "dd8df428-780b-445b-bd35-d5decb79fdd0",
   "metadata": {},
   "source": [
    "First read the runtime file from the outputs:"
   ]
  },
  {
   "cell_type": "code",
   "execution_count": 3,
   "id": "9ec53c60-54ef-4321-b516-f4957bbcbdb4",
   "metadata": {},
   "outputs": [],
   "source": [
    "with open(\"../experimentation/borg_optimization/runtime/runtime_seed_10.txt\") as f:\n",
    "    contents = f.readlines()"
   ]
  },
  {
   "cell_type": "code",
   "execution_count": 4,
   "id": "9d73da10-3ff2-4aef-ab12-152177bcfcbe",
   "metadata": {},
   "outputs": [],
   "source": [
    "nfe_archive = dict()\n",
    "\n",
    "for i, line in enumerate(contents):\n",
    "    \n",
    "    if line[:5] == \"//NFE\":\n",
    "        \n",
    "        nfe_count = int(line[6:-1])\n",
    "        j = i + 1 # With this index, scan lines below //NFE:\n",
    "        batch_of_this_nfe = list()\n",
    "        \n",
    "        while j < len(contents) and contents[j][:5] != \"//NFE\":\n",
    "            batch_of_this_nfe.append(contents[j])\n",
    "            j += 1\n",
    "        \n",
    "        objective_tuples = []\n",
    "        \n",
    "        for obj_line in batch_of_this_nfe:\n",
    "            if obj_line[0] == \" \": # This means we are a line with obj values\n",
    "                objective_tuples.append(tuple([round(float(x), 2) for x in obj_line.split()]))\n",
    "                \n",
    "        nfe_archive[nfe_count] = objective_tuples\n",
    "                "
   ]
  },
  {
   "cell_type": "code",
   "execution_count": 5,
   "id": "fea0d1eb-f237-4bd8-a5a2-70c8d1fd0ade",
   "metadata": {},
   "outputs": [],
   "source": [
    "# latest_archive = nfe_archive[max(nfe_archive.keys())]\n",
    "\n",
    "best = [\n",
    "    100,\n",
    "    0,\n",
    "    100,\n",
    "    0,\n",
    "]  # Initialize the set of best values with really bad results (the aim is to reach the real best with the for loop)\n",
    "worst = [0, -190, 0, -20]  # Same idea, initialize the worst as something very good\n",
    "\n",
    "for archive_set in nfe_archive.values():\n",
    "    \n",
    "    for objective_index in range(4):\n",
    "        obj_values = [solution[objective_index] for solution in archive_set]\n",
    "        minimum = min(obj_values)\n",
    "        maximum = max(obj_values)\n",
    "        if minimum < best[objective_index]:\n",
    "            best[objective_index] = minimum\n",
    "        if maximum > worst[objective_index]:\n",
    "            worst[objective_index] = maximum"
   ]
  },
  {
   "cell_type": "code",
   "execution_count": 6,
   "id": "058aaf2d-ce8b-447c-8898-420fe3c2b42f",
   "metadata": {},
   "outputs": [
    {
     "name": "stdout",
     "output_type": "stream",
     "text": [
      "[0.06, -178.14, 0.0, -14.23]\n",
      "[7.19, -154.62, 2.04, -8.83]\n"
     ]
    }
   ],
   "source": [
    "print(best)\n",
    "print(worst)"
   ]
  },
  {
   "cell_type": "code",
   "execution_count": 7,
   "id": "8a8a60d9-f434-4381-91a5-a5447c8273ed",
   "metadata": {},
   "outputs": [
    {
     "data": {
      "text/html": [
       "<div>\n",
       "<style scoped>\n",
       "    .dataframe tbody tr th:only-of-type {\n",
       "        vertical-align: middle;\n",
       "    }\n",
       "\n",
       "    .dataframe tbody tr th {\n",
       "        vertical-align: top;\n",
       "    }\n",
       "\n",
       "    .dataframe thead th {\n",
       "        text-align: right;\n",
       "    }\n",
       "</style>\n",
       "<table border=\"1\" class=\"dataframe\">\n",
       "  <thead>\n",
       "    <tr style=\"text-align: right;\">\n",
       "      <th></th>\n",
       "      <th>0</th>\n",
       "      <th>1</th>\n",
       "      <th>2</th>\n",
       "      <th>3</th>\n",
       "    </tr>\n",
       "  </thead>\n",
       "  <tbody>\n",
       "    <tr>\n",
       "      <th>0</th>\n",
       "      <td>0.27</td>\n",
       "      <td>-161.44</td>\n",
       "      <td>0.17</td>\n",
       "      <td>-8.83</td>\n",
       "    </tr>\n",
       "    <tr>\n",
       "      <th>1</th>\n",
       "      <td>2.63</td>\n",
       "      <td>-175.07</td>\n",
       "      <td>0.07</td>\n",
       "      <td>-9.65</td>\n",
       "    </tr>\n",
       "    <tr>\n",
       "      <th>2</th>\n",
       "      <td>0.98</td>\n",
       "      <td>-155.87</td>\n",
       "      <td>0.07</td>\n",
       "      <td>-13.42</td>\n",
       "    </tr>\n",
       "    <tr>\n",
       "      <th>3</th>\n",
       "      <td>1.44</td>\n",
       "      <td>-168.33</td>\n",
       "      <td>0.12</td>\n",
       "      <td>-8.83</td>\n",
       "    </tr>\n",
       "    <tr>\n",
       "      <th>4</th>\n",
       "      <td>4.36</td>\n",
       "      <td>-175.06</td>\n",
       "      <td>0.00</td>\n",
       "      <td>-14.03</td>\n",
       "    </tr>\n",
       "    <tr>\n",
       "      <th>...</th>\n",
       "      <td>...</td>\n",
       "      <td>...</td>\n",
       "      <td>...</td>\n",
       "      <td>...</td>\n",
       "    </tr>\n",
       "    <tr>\n",
       "      <th>89</th>\n",
       "      <td>3.33</td>\n",
       "      <td>-172.24</td>\n",
       "      <td>0.00</td>\n",
       "      <td>-13.95</td>\n",
       "    </tr>\n",
       "    <tr>\n",
       "      <th>90</th>\n",
       "      <td>2.07</td>\n",
       "      <td>-170.25</td>\n",
       "      <td>0.02</td>\n",
       "      <td>-10.25</td>\n",
       "    </tr>\n",
       "    <tr>\n",
       "      <th>91</th>\n",
       "      <td>1.01</td>\n",
       "      <td>-162.46</td>\n",
       "      <td>0.01</td>\n",
       "      <td>-10.66</td>\n",
       "    </tr>\n",
       "    <tr>\n",
       "      <th>92</th>\n",
       "      <td>5.04</td>\n",
       "      <td>-178.00</td>\n",
       "      <td>0.00</td>\n",
       "      <td>-12.66</td>\n",
       "    </tr>\n",
       "    <tr>\n",
       "      <th>93</th>\n",
       "      <td>7.19</td>\n",
       "      <td>-177.84</td>\n",
       "      <td>0.00</td>\n",
       "      <td>-14.10</td>\n",
       "    </tr>\n",
       "  </tbody>\n",
       "</table>\n",
       "<p>94 rows × 4 columns</p>\n",
       "</div>"
      ],
      "text/plain": [
       "       0       1     2      3\n",
       "0   0.27 -161.44  0.17  -8.83\n",
       "1   2.63 -175.07  0.07  -9.65\n",
       "2   0.98 -155.87  0.07 -13.42\n",
       "3   1.44 -168.33  0.12  -8.83\n",
       "4   4.36 -175.06  0.00 -14.03\n",
       "..   ...     ...   ...    ...\n",
       "89  3.33 -172.24  0.00 -13.95\n",
       "90  2.07 -170.25  0.02 -10.25\n",
       "91  1.01 -162.46  0.01 -10.66\n",
       "92  5.04 -178.00  0.00 -12.66\n",
       "93  7.19 -177.84  0.00 -14.10\n",
       "\n",
       "[94 rows x 4 columns]"
      ]
     },
     "execution_count": 7,
     "metadata": {},
     "output_type": "execute_result"
    }
   ],
   "source": [
    "pd.DataFrame(nfe_archive[3000])"
   ]
  },
  {
   "cell_type": "code",
   "execution_count": 8,
   "id": "d9e6c729-ec20-4a73-b19e-a6748d4f34ad",
   "metadata": {},
   "outputs": [],
   "source": [
    "# Normalize objectives function makes the best outcome 1, worst 0 for each obj value\n",
    "def normalize_objs(df, worst, best):\n",
    "    for i, col in enumerate(df.columns):\n",
    "        df[col] = (best[i] - df[col]) / (best[i] - worst[i])\n",
    "        # df[col] = 1 - df[col]\n",
    "\n",
    "    return np.array(df)"
   ]
  },
  {
   "cell_type": "code",
   "execution_count": 9,
   "id": "1f237459-ffa5-43f7-9882-1fe1dbc82dd4",
   "metadata": {},
   "outputs": [
    {
     "data": {
      "text/plain": [
       "array([[ 0.36746143,  0.00085034, -0.        ,  0.24074074],\n",
       "       [ 0.43618513,  0.00170068, -0.        ,  0.13148148],\n",
       "       [ 0.01823282,  0.14158163, -0.        ,  0.24259259],\n",
       "       ...,\n",
       "       [ 0.26367461,  0.06802721, -0.        ,  0.04259259],\n",
       "       [ 0.12201964,  0.05569728, -0.        ,  0.2       ],\n",
       "       [ 0.13323983,  0.05952381, -0.        ,  0.16481481]])"
      ]
     },
     "execution_count": 9,
     "metadata": {},
     "output_type": "execute_result"
    }
   ],
   "source": [
    "normalize_objs(pd.DataFrame(nfe_archive[136000]), worst, best)"
   ]
  },
  {
   "cell_type": "code",
   "execution_count": 10,
   "id": "b22e6fff-63d5-4a74-8e1e-558f31039ac8",
   "metadata": {},
   "outputs": [
    {
     "name": "stderr",
     "output_type": "stream",
     "text": [
      "100%|██████████| 200/200 [00:48<00:00,  4.09it/s]\n"
     ]
    }
   ],
   "source": [
    "from tqdm import tqdm\n",
    "\n",
    "# Let's calculate hypervolume per NFE to plot\n",
    "hvs = []\n",
    "\n",
    "hv = get_performance_indicator(\n",
    "    \"hv\", ref_point=np.array([1.2, 1.2, 1.2, 1.2])\n",
    ")  # Reference set, works fine since everything is btwn 0-1\n",
    "\n",
    "for keys, values in tqdm(nfe_archive.items()):\n",
    "\n",
    "    # print(i, \"I am here NFE\")\n",
    "    hvs.append(hv.do(normalize_objs(pd.DataFrame(values), worst, best)))\n",
    "    # print(i, \"I am here HV\")"
   ]
  },
  {
   "cell_type": "code",
   "execution_count": 11,
   "id": "b92fbd47-84a5-4790-a15e-bc9dd753f0f9",
   "metadata": {},
   "outputs": [
    {
     "data": {
      "text/plain": [
       "200"
      ]
     },
     "execution_count": 11,
     "metadata": {},
     "output_type": "execute_result"
    }
   ],
   "source": [
    "len(nfe_archive)"
   ]
  },
  {
   "cell_type": "code",
   "execution_count": 13,
   "id": "20fadfa8-ae01-4a31-9fdf-13edaffb1a5a",
   "metadata": {},
   "outputs": [
    {
     "data": {
      "image/png": "[encoded data removed]",
      "text/plain": [
       "<Figure size 640x480 with 1 Axes>"
      ]
     },
     "metadata": {},
     "output_type": "display_data"
    }
   ],
   "source": [
    "fig, ax = plt.subplots()\n",
    "ax.set_xlabel(\"number of function evaluations\")\n",
    "ax.set_ylabel(\"hypervolume\")\n",
    "ax.plot(\n",
    "    list(nfe_archive.keys()), hvs\n",
    ")  # First 6 distorts the view, giving a wrong sense of convergence\n",
    "plt.show()"
   ]
  },
  {
   "cell_type": "code",
   "execution_count": 11,
   "id": "9ca94ead-5f7e-46b0-916d-618e5d012638",
   "metadata": {},
   "outputs": [
    {
     "data": {
      "image/png": "[encoded data removed]",
      "text/plain": [
       "<Figure size 900x400 with 2 Axes>"
      ]
     },
     "metadata": {},
     "output_type": "display_data"
    }
   ],
   "source": [
    "fig, (ax1, ax2) = plt.subplots(ncols=2, sharex=True, figsize=(9, 4))\n",
    "ax1.plot(convergence.nfe, convergence.epsilon_progress)\n",
    "ax1.set_ylabel(\"$\\epsilon$-progress\", fontsize=15)\n",
    "ax2.plot(nfes[2:], hvs[2:])\n",
    "ax2.set_ylabel(\"hypervolume\", fontsize=15)\n",
    "\n",
    "ax1.set_xlabel(\"NFEs\", fontsize=15)\n",
    "ax2.set_xlabel(\"NFEs\", fontsize=15)\n",
    "fig.tight_layout()\n",
    "# plt.grid(False)\n",
    "plt.savefig(\"../plots/convergence.svg\")\n",
    "plt.show()"
   ]
  },
  {
   "cell_type": "markdown",
   "id": "c9b4695a-a686-4ed0-8d71-24d1e339b8f5",
   "metadata": {},
   "source": [
    "Interestingly epsilon progress suggests there is room for improvement however hypervolume hints at the opposite with **50,000** NFEs!"
   ]
  },
  {
   "cell_type": "code",
   "execution_count": null,
   "id": "81d9bef0-24a0-4503-9d90-b87b7e2e65c1",
   "metadata": {},
   "outputs": [],
   "source": []
  }
 ],
 "metadata": {
  "kernelspec": {
   "display_name": "Python 3",
   "language": "python",
   "name": "python3"
  },
  "language_info": {
   "codemirror_mode": {
    "name": "ipython",
    "version": 3
   },
   "file_extension": ".py",
   "mimetype": "text/x-python",
   "name": "python",
   "nbconvert_exporter": "python",
   "pygments_lexer": "ipython3",
   "version": "3.9.7"
  },
  "vscode": {
   "interpreter": {
    "hash": "aee8b7b246df8f9039afb4144a1f6fd8d2ca17a180786b69acc140d282b71a49"
   }
  }
 },
 "nbformat": 4,
 "nbformat_minor": 5
}
