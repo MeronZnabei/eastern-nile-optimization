{
 "cells": [
  {
   "cell_type": "code",
   "execution_count": 1,
   "id": "c0e9f339-3d15-40ed-8697-3e1afd90cd35",
   "metadata": {},
   "outputs": [],
   "source": [
    "import numpy as np\n",
    "import pickle\n",
    "import pandas as pd\n",
    "import sys\n",
    "import matplotlib.pyplot as plt\n",
    "\n",
    "my_path = sys.path[0]\n",
    "while (my_path[-1] != \"/\") and (my_path[-1] != \"\\\\\"):\n",
    "    my_path = my_path[:-1]\n",
    "\n",
    "sys.path.insert(1, my_path + \"Model\")\n",
    "\n",
    "from model_nile import ModelNile"
   ]
  },
  {
   "cell_type": "markdown",
   "id": "3d9bb67e-dde9-4b60-8853-da82e657cc08",
   "metadata": {},
   "source": [
    "**Setting things:**"
   ]
  },
  {
   "cell_type": "code",
   "execution_count": 2,
   "id": "3bb182c4-8802-4822-b967-84c0c9fe4130",
   "metadata": {},
   "outputs": [],
   "source": [
    "nile_model = ModelNile()\n",
    "yearly_demand_growth_rate = 0.02\n",
    "sim_horizon = 20\n",
    "np.random.seed(123)"
   ]
  },
  {
   "cell_type": "markdown",
   "id": "ba0d3d60-963c-47c4-82e7-e32a47311d76",
   "metadata": {},
   "source": [
    "# Demand Data:\n",
    "\n",
    "Monthly demand values come from [Wheeler et al. (2016)](https://www.tandfonline.com/doi/suppl/10.1080/02508060.2016.1177698/suppl_file/rwin_a_1177698_sm6059.pdf) supplementary data. I converted it to **m3/sec** from BCM/month. To generate sufficient monthly demand throughout the simulation horizon, a constant **yearly demand growth rate** will be assumed. A rough assumption of **2%** demand growth is the baseline given this source on [NBI Atlas](https://atlas.nilebasin.org/treatise/population-growth-rates-in-nile-basin-countries/). Though, I haven't grown the demand between years 2016-2022! (despite this study being published in 2016)"
   ]
  },
  {
   "cell_type": "code",
   "execution_count": 3,
   "id": "edd6c2b6-f818-46a3-94a0-cf7d3695ce36",
   "metadata": {},
   "outputs": [],
   "source": [
    "for district in nile_model.irr_districts.values():\n",
    "        one_year = np.loadtxt(f\"IrrDemand{district.name}.txt\")\n",
    "        demand_vector = np.empty(0)\n",
    "        loop_counter = sim_horizon\n",
    "        while loop_counter > 0:\n",
    "            demand_vector = np.append(demand_vector, one_year)\n",
    "            one_year *= (1+yearly_demand_growth_rate)\n",
    "            loop_counter -= 1\n",
    "        district.demand = demand_vector"
   ]
  },
  {
   "cell_type": "markdown",
   "id": "a08e7a2e-e4a2-4761-8eb9-254d6c53463f",
   "metadata": {},
   "source": [
    "Let's show the dynamics of total yearly demand in the basin:"
   ]
  },
  {
   "cell_type": "code",
   "execution_count": 4,
   "id": "9ba4bb88-6463-431c-ad5f-a684e3133778",
   "metadata": {},
   "outputs": [],
   "source": [
    "day_count = nile_model.nu_of_days_per_month\n",
    "\n",
    "total_yearly_demand = np.empty(0)\n",
    "\n",
    "for i in range(sim_horizon):\n",
    "    total_this_year = 0\n",
    "    for district in nile_model.irr_districts.values():\n",
    "        for j in range(12):\n",
    "            total_this_year += district.demand[i*12+j]*day_count[j]*24*3600*1e-9\n",
    "    total_yearly_demand = np.append(total_yearly_demand, total_this_year)"
   ]
  },
  {
   "cell_type": "code",
   "execution_count": 5,
   "id": "bb0728fe-f853-405a-bac4-a1bdb8f30706",
   "metadata": {},
   "outputs": [
    {
     "data": {
      "text/plain": [
       "array([67.866     , 69.22332   , 70.6077864 , 72.01994212, 73.46034097,\n",
       "       74.92954779, 76.42813874, 77.95670152, 79.51583555, 81.10615226,\n",
       "       82.7282753 , 84.38284081, 86.07049763, 87.79190758, 89.54774573,\n",
       "       91.33870064, 93.16547466, 95.02878415, 96.92935983, 98.86794703])"
      ]
     },
     "execution_count": 5,
     "metadata": {},
     "output_type": "execute_result"
    }
   ],
   "source": [
    "total_yearly_demand"
   ]
  },
  {
   "cell_type": "code",
   "execution_count": 6,
   "id": "6b40d48f-e6ec-445d-885a-8b3b2ca755f5",
   "metadata": {},
   "outputs": [
    {
     "data": {
      "image/png": "[encoded data removed]",
      "text/plain": [
       "<Figure size 432x288 with 1 Axes>"
      ]
     },
     "metadata": {
      "needs_background": "light"
     },
     "output_type": "display_data"
    }
   ],
   "source": [
    "plt.xticks(range(20))\n",
    "plt.plot(range(20),total_yearly_demand)\n",
    "plt.rcParams[\"figure.figsize\"] = (40,15)\n",
    "plt.ylabel(\"BCM per year\")\n",
    "plt.xlabel(\"Year\")\n",
    "plt.title(\"Yearly total demand on the Nile Basin over simulation horizon\")\n",
    "plt.show()\n",
    "plt.rcParams[\"figure.figsize\"] = plt.rcParamsDefault[\"figure.figsize\"]\n"
   ]
  },
  {
   "cell_type": "markdown",
   "id": "6412ff44-ae36-4053-bb0c-08e07d69856e",
   "metadata": {},
   "source": [
    "# Inflow Data:\n",
    "\n",
    "Here I distinguish two types of inflow data: \n",
    "- Major tributaries (Blue Nile, White Nile, Atbara River)\n",
    "- Minor catchments\n",
    "\n",
    "For the former, I have some gauging station measurements. For the latter, I have the detailed conceptualisation laid out in [Wheeler et al. (2018)](https://agupubs.onlinelibrary.wiley.com/doi/full/10.1029/2017WR022149). The authors of this study generated future streamflows considering three alternative formulation of the statistical generating process (100 realisations of each stochastic distribution gives 300 possible sets). Given the focal point of my research not being particularly a realistic prediction of future inflow occurences, I decided to use this dataset as alternative realisations. However, there is no immediately available data for the main tributaries --in fact, the more important category of inflows--. My strategy is to generate alternative realisations as simply as possible. Following shows how it has been done for each of the tributaries:"
   ]
  },
  {
   "cell_type": "markdown",
   "id": "6692da85-ece6-4562-9084-95ca26f2159c",
   "metadata": {},
   "source": [
    "## White Nile:\n",
    "\n",
    "Based on the conceptual model schematic presented in [Wheeler et al. (2018)](https://agupubs.onlinelibrary.wiley.com/doi/full/10.1029/2017WR022149), I decided to consider the contribution of the incoming flow from the White Nile as the measurement made in the Mogren gauging station. I could find limited amount of measurement data on [UNH/GRDC Composite Runoff Fields](https://www.compositerunoff.sr.unh.edu/html/Polygons/P1673100.html) in the form of **mean**, **min**, **max** inflow per month. My initial strategy will be to assume the distribution of the inflow at each month is triangular distribution with min=min, mod=mean and max=max. With this simplistic assumption (one major limitation: not considering any autocorrelation among data points which is essential in hydrology), I will generate 20*12 = 240 data points."
   ]
  },
  {
   "cell_type": "code",
   "execution_count": 7,
   "id": "99bb8a20-08bc-4da9-8a88-77086226f51d",
   "metadata": {},
   "outputs": [],
   "source": [
    "mogren_dist = pd.read_csv(\"mogren_distribution.csv\")\n",
    "mogren = np.empty(0)\n",
    "loop_counter = sim_horizon\n",
    "while loop_counter > 0:\n",
    "    m = list()\n",
    "    for i in range(12):\n",
    "        m.append(np.random.triangular(mogren_dist.loc[i,\"MinQ\"], mogren_dist.loc[i,\"MeanQ\"], mogren_dist.loc[i,\"MaxQ\"]))\n",
    "    mogren = np.append(mogren, m)\n",
    "    \n",
    "    loop_counter -= 1"
   ]
  },
  {
   "cell_type": "markdown",
   "id": "2cbeb38c-784e-4d4e-967e-e07668e16ad2",
   "metadata": {},
   "source": [
    "I add four minor inflows to the Mogren measurements (as these inflows join the system just after the White Nile joins the Main Nile, but before the next demand district). For that, let's load one of the baseline inflow scenarios that Wheeler et al. (2018) generated:"
   ]
  },
  {
   "cell_type": "code",
   "execution_count": 8,
   "id": "3d0a68d9-ae28-470a-a3b8-680c7d234f7e",
   "metadata": {},
   "outputs": [],
   "source": [
    "wh_data = pickle.load( open( \"Baseline_wheeler.p\", \"rb\" ) )\n",
    "set_number = np.random.randint(1, 101)\n",
    "numbered_catchments = wh_data[set_number]\n",
    "# This data is generated for 2018 January and on. Therefore, I'll drop first four years:\n",
    "numbered_catchments = numbered_catchments.iloc[49:(49+sim_horizon*12)]"
   ]
  },
  {
   "cell_type": "markdown",
   "id": "bfc3807b-fa3e-4e3f-add7-79a508fe1e68",
   "metadata": {},
   "source": [
    "Overall, the inflow of my White Nile catchment is the sum of the inflow coming from the White Nile (Mogren station) plus Wheeler flow numbers 1364, 1338, 1317, 31. However, it turns out that authors could not find data for this inflows and since they are not comparable to the White Nile. We can just ignore:"
   ]
  },
  {
   "cell_type": "code",
   "execution_count": 9,
   "id": "177c3bb5-e013-4b62-b4a3-79a940e98525",
   "metadata": {},
   "outputs": [
    {
     "data": {
      "text/plain": [
       "49     0.0\n",
       "50     0.0\n",
       "51     0.0\n",
       "52     0.0\n",
       "53     0.0\n",
       "      ... \n",
       "284    0.0\n",
       "285    0.0\n",
       "286    0.0\n",
       "287    0.0\n",
       "288    0.0\n",
       "Length: 240, dtype: float64"
      ]
     },
     "execution_count": 9,
     "metadata": {},
     "output_type": "execute_result"
    }
   ],
   "source": [
    "numbered_catchments[\"1364.Inflow\"] + numbered_catchments[\"1338.Inflow\"] + numbered_catchments[\"1317.Inflow\"] + numbered_catchments[\"31.Inflow\"]"
   ]
  },
  {
   "cell_type": "markdown",
   "id": "efb99b92-791c-48a0-beb6-3b334a558043",
   "metadata": {},
   "source": [
    "Similar to what we did with **demand**, let's calculate the total yearly contribution of the White Nile in billion cubic meters (BCM):"
   ]
  },
  {
   "cell_type": "code",
   "execution_count": 10,
   "id": "4aca643c-d930-436a-a36f-db671fd2819a",
   "metadata": {},
   "outputs": [],
   "source": [
    "day_count = nile_model.nu_of_days_per_month\n",
    "\n",
    "total_yearly_whitenile = np.empty(0)\n",
    "\n",
    "for i in range(sim_horizon):\n",
    "    total_this_year = 0\n",
    "    for j in range(12):\n",
    "        total_this_year += mogren[i*12+j]*day_count[j]*24*3600*1e-9\n",
    "    total_yearly_whitenile = np.append(total_yearly_whitenile, total_this_year)"
   ]
  },
  {
   "cell_type": "code",
   "execution_count": 11,
   "id": "604b38d2-9013-43bb-bf17-d509777543bb",
   "metadata": {},
   "outputs": [
    {
     "data": {
      "text/plain": [
       "array([29.44944943, 28.55093875, 27.71981741, 29.67446489, 29.06756505,\n",
       "       28.80841526, 28.56068907, 30.2329631 , 27.82665219, 28.25579992,\n",
       "       29.4884569 , 29.25920785, 28.78782949, 29.33390332, 28.60762887,\n",
       "       28.27615466, 27.99932192, 29.0675467 , 28.94497437, 27.86695306])"
      ]
     },
     "execution_count": 11,
     "metadata": {},
     "output_type": "execute_result"
    }
   ],
   "source": [
    "total_yearly_whitenile"
   ]
  },
  {
   "cell_type": "markdown",
   "id": "39fa7a4f-274b-4df8-ba4c-b186ad7fd0bf",
   "metadata": {},
   "source": [
    "## Atbara River:\n",
    "\n",
    "Based on the conceptual model schematic presented in [Wheeler et al. (2018)](https://agupubs.onlinelibrary.wiley.com/doi/full/10.1029/2017WR022149), I decided to consider the contribution of the incoming flow from the Atbara tributary as the measurement made in the **Atbara at Kilo 3** gauging station. I could find limited amount of measurement data on [Center for Sustainability and the Global Environment-\n",
    "Nelson Institute for Environmental Studies](https://sage.nelson.wisc.edu/riverdata/station_table.php?qual=256&filenum=138) as incomplete monthly time-series data from year 1912 to 1982. My initial strategy will be to assume the distribution of the inflow at each month as Normal with mean=average of a month, std=standard deviation within a month. With this simplistic assumption (one major limitation: not considering any autocorrelation among data points which is essential in hydrology), I will generate 20*12 = 240 data points."
   ]
  },
  {
   "cell_type": "code",
   "execution_count": 12,
   "id": "19a55125-7b97-4819-a4ff-c9651a6d7653",
   "metadata": {},
   "outputs": [],
   "source": [
    "atbara_dist = pd.read_csv(\"atbara_distribution.csv\")\n",
    "atbara = np.empty(0)\n",
    "loop_counter = sim_horizon\n",
    "while loop_counter > 0:\n",
    "    a = list()\n",
    "    for i in range(12):\n",
    "        a.append(max(0,np.random.normal(atbara_dist.loc[i,\"mean\"], atbara_dist.loc[i,\"std\"])))\n",
    "    atbara = np.append(atbara, a)\n",
    "    \n",
    "    loop_counter -= 1"
   ]
  },
  {
   "cell_type": "markdown",
   "id": "c7951fe6-fff8-4b7d-b9e2-a0a4da96d423",
   "metadata": {},
   "source": [
    "Let's calculate total yearly contribution again:"
   ]
  },
  {
   "cell_type": "code",
   "execution_count": 13,
   "id": "2bb39a6b-11d9-45a2-81db-5386303137fc",
   "metadata": {},
   "outputs": [],
   "source": [
    "day_count = nile_model.nu_of_days_per_month\n",
    "\n",
    "total_yearly_atbara = np.empty(0)\n",
    "\n",
    "for i in range(sim_horizon):\n",
    "    total_this_year = 0\n",
    "    for j in range(12):\n",
    "        total_this_year += atbara[i*12+j]*day_count[j]*24*3600*1e-9\n",
    "    total_yearly_atbara = np.append(total_yearly_atbara, total_this_year)"
   ]
  },
  {
   "cell_type": "code",
   "execution_count": 14,
   "id": "8da71e71-338e-43bf-b395-aee72f434023",
   "metadata": {},
   "outputs": [
    {
     "data": {
      "text/plain": [
       "array([ 9.22208845,  8.59468373, 10.54494517, 13.79561106, 11.42072213,\n",
       "       10.90486621, 13.88102429,  6.43893181,  7.22619671, 11.14954709,\n",
       "       12.89225516,  9.86842337,  7.45328365, 10.70582405, 11.12486231,\n",
       "       16.22664228,  8.68975339, 13.67161882, 18.2662685 ,  9.90762756])"
      ]
     },
     "execution_count": 14,
     "metadata": {},
     "output_type": "execute_result"
    }
   ],
   "source": [
    "total_yearly_atbara"
   ]
  },
  {
   "cell_type": "markdown",
   "id": "1d1cb96d-2cc3-4581-ba3e-e7e410ebbc6b",
   "metadata": {},
   "source": [
    "Quick visual observation over the numbers says that contribution coming from Atbara is around one-third of that coming from the White Nile. Atbara flows are more volatile."
   ]
  },
  {
   "cell_type": "markdown",
   "id": "cac9e1e9-6fd8-4392-b668-62e71ce9bc72",
   "metadata": {},
   "source": [
    "## Blue Nile:\n",
    "\n",
    "Since I draw my model boundary at the GERD, it has been challenging to find good inflow data. [Basheer et al. (2020)](https://www.cell.com/one-earth/fulltext/S2590-3322(20)30424-3?_returnURL=https%3A%2F%2Flinkinghub.elsevier.com%2Fretrieve%2Fpii%2FS2590332220304243%3Fshowall%3Dtrue) supplementary information presents the average yearly flow of the Blue Nile as 50 BCM. To generate the flows in a basic fashion, I only need the indication of interannual variability. As an indication of that, I received monthly inflow measurements from the data set (how to refer). However, the yearly total of that data was ending up at a very low BCM value per year. Therefore, I scaled up those monthly values so as to equate the total yearly flow to 50 BCM (the figure authors mention). With that, I obtained a single (mean) value per each month. To generate some variability for the following 20 years, I assumed uniform distribution with +-30% lower and upper bounds:"
   ]
  },
  {
   "cell_type": "code",
   "execution_count": 15,
   "id": "e656fa44-061a-4074-942d-e24a3a03319a",
   "metadata": {},
   "outputs": [],
   "source": [
    "bluenile_dist = pd.read_csv(\"blue_nile_series.csv\")\n",
    "bluenile = np.empty(0)\n",
    "loop_counter = sim_horizon\n",
    "while loop_counter > 0:\n",
    "    b = list()\n",
    "    for i in range(12):\n",
    "        b.append(np.random.uniform(bluenile_dist.loc[i,\"0\"]*0.7, bluenile_dist.loc[i,\"0\"]*1.3))\n",
    "    bluenile = np.append(bluenile, b)\n",
    "    \n",
    "    loop_counter -= 1"
   ]
  },
  {
   "cell_type": "markdown",
   "id": "c62ee9f6-d95e-4782-942c-8af74cbd3820",
   "metadata": {},
   "source": [
    "Calculate yearly total:"
   ]
  },
  {
   "cell_type": "code",
   "execution_count": 16,
   "id": "63f98dfd-4e7a-4536-8c12-2f7b567b1722",
   "metadata": {},
   "outputs": [],
   "source": [
    "day_count = nile_model.nu_of_days_per_month\n",
    "\n",
    "total_yearly_bluenile = np.empty(0)\n",
    "\n",
    "for i in range(sim_horizon):\n",
    "    total_this_year = 0\n",
    "    for j in range(12):\n",
    "        total_this_year += bluenile[i*12+j]*day_count[j]*24*3600*1e-9\n",
    "    total_yearly_bluenile = np.append(total_yearly_bluenile, total_this_year)"
   ]
  },
  {
   "cell_type": "code",
   "execution_count": 17,
   "id": "f342ca7b-379f-43bf-b19b-d393478cb6cb",
   "metadata": {},
   "outputs": [
    {
     "data": {
      "text/plain": [
       "array([59.20771626, 59.83413874, 51.92849411, 51.82820441, 49.59873807,\n",
       "       57.71837794, 49.27079649, 54.29190433, 46.13880032, 43.52076732,\n",
       "       56.99455328, 51.30643731, 48.79592569, 52.35513222, 52.84610145,\n",
       "       53.53347987, 46.40373901, 51.41301484, 51.06157891, 52.42182374])"
      ]
     },
     "execution_count": 17,
     "metadata": {},
     "output_type": "execute_result"
    }
   ],
   "source": [
    "total_yearly_bluenile"
   ]
  },
  {
   "cell_type": "markdown",
   "id": "961b2641-6279-4432-a42e-004e9920b8a2",
   "metadata": {},
   "source": [
    "## Minor catchments:"
   ]
  },
  {
   "cell_type": "code",
   "execution_count": 18,
   "id": "6f231d13-ca37-48df-87a3-829a6bcfae6c",
   "metadata": {},
   "outputs": [],
   "source": [
    "minors = dict()\n",
    "minors[\"Dinder\"] = np.array(numbered_catchments[\"340.Inflow\"] + numbered_catchments[\"635.Inflow\"] + \\\n",
    "    numbered_catchments[\"1308.Inflow\"])\n",
    "minors[\"Rahad\"] = np.array(numbered_catchments[\"243.Inflow\"] + numbered_catchments[\"519.Inflow\"] + \\\n",
    "    numbered_catchments[\"524.Inflow\"])\n",
    "minors[\"GERDToRoseires\"] = np.array(numbered_catchments[\"33.Inflow\"] + numbered_catchments[\"530.Inflow\"] + \\\n",
    "    numbered_catchments[\"1374.Inflow\"])\n",
    "minors[\"RoseiresToAbuNaama\"] = np.array(numbered_catchments[\"1309.Inflow\"])\n",
    "minors[\"SukiToSennar\"] = np.array(numbered_catchments[\"470.Inflow\"])"
   ]
  },
  {
   "cell_type": "markdown",
   "id": "6baea83d-08a5-4940-8f2b-1681ab2b038e",
   "metadata": {},
   "source": [
    "Also, calculate the total yearly contribution coming from the minor inflows to include in the supply-demand validation:"
   ]
  },
  {
   "cell_type": "code",
   "execution_count": 19,
   "id": "eadc447b-2dee-4784-b77f-cecfaa025c6f",
   "metadata": {},
   "outputs": [],
   "source": [
    "day_count = nile_model.nu_of_days_per_month\n",
    "\n",
    "total_yearly_minors = np.empty(0)\n",
    "\n",
    "for i in range(sim_horizon):\n",
    "    total_this_year = 0\n",
    "    for catchment in minors.keys():\n",
    "        for j in range(12):\n",
    "            total_this_year += minors[catchment][i*12+j]*day_count[j]*24*3600*1e-9\n",
    "    total_yearly_minors = np.append(total_yearly_minors, total_this_year)"
   ]
  },
  {
   "cell_type": "code",
   "execution_count": 20,
   "id": "2f013fc6-c95c-4969-ba9d-2e3b079e91c4",
   "metadata": {},
   "outputs": [
    {
     "data": {
      "text/plain": [
       "array([16.17781855, 21.95487887, 16.82342693, 17.88229777, 15.84960342,\n",
       "       20.69246786, 18.69971807, 18.20851648, 21.20481327, 19.69722243,\n",
       "       13.84586077, 21.24532544, 18.16406026, 16.05852409, 18.27212194,\n",
       "       13.43981708, 15.40859966, 16.87185803, 13.20383087, 13.58698938])"
      ]
     },
     "execution_count": 20,
     "metadata": {},
     "output_type": "execute_result"
    }
   ],
   "source": [
    "total_yearly_minors"
   ]
  },
  {
   "cell_type": "markdown",
   "id": "4b7e2387-3683-4043-bab8-b61227d1b6b6",
   "metadata": {},
   "source": [
    "Let's finally sum all the inflows to make a high-level comparison of the total system mass-balance:"
   ]
  },
  {
   "cell_type": "code",
   "execution_count": 21,
   "id": "cb45925a-81d3-4352-8666-f819b906b791",
   "metadata": {},
   "outputs": [],
   "source": [
    "total_inflows = total_yearly_atbara + total_yearly_bluenile + total_yearly_whitenile + total_yearly_minors"
   ]
  },
  {
   "cell_type": "code",
   "execution_count": 22,
   "id": "9a250f16-787e-4a0f-b714-e87d79575c39",
   "metadata": {},
   "outputs": [
    {
     "data": {
      "text/plain": [
       "array([114.05707268, 118.93464008, 107.01668363, 113.18057813,\n",
       "       105.93662866, 118.12412727, 110.41222792, 109.17231572,\n",
       "       102.3964625 , 102.62333676, 113.22112611, 111.67939397,\n",
       "       103.20109908, 108.45338368, 110.85071456, 111.47609388,\n",
       "        98.50141398, 111.02403839, 111.47665264, 103.78339374])"
      ]
     },
     "execution_count": 22,
     "metadata": {},
     "output_type": "execute_result"
    }
   ],
   "source": [
    "total_inflows"
   ]
  },
  {
   "cell_type": "code",
   "execution_count": null,
   "id": "a1396fa6-444f-4e6d-bee5-6693e536771b",
   "metadata": {},
   "outputs": [],
   "source": []
  }
 ],
 "metadata": {
  "kernelspec": {
   "display_name": "Python 3 (ipykernel)",
   "language": "python",
   "name": "python3"
  },
  "language_info": {
   "codemirror_mode": {
    "name": "ipython",
    "version": 3
   },
   "file_extension": ".py",
   "mimetype": "text/x-python",
   "name": "python",
   "nbconvert_exporter": "python",
   "pygments_lexer": "ipython3",
   "version": "3.9.7"
  }
 },
 "nbformat": 4,
 "nbformat_minor": 5
}
