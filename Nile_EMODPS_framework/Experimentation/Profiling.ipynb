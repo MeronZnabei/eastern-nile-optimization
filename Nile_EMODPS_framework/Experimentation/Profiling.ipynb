{
 "cells": [
  {
   "cell_type": "markdown",
   "metadata": {
    "collapsed": true,
    "pycharm": {
     "name": "#%% md\n"
    }
   },
   "source": [
    "# Profiling notebook\n",
    "This notebook is used for testing the time it takes to run the Nile model."
   ]
  },
  {
   "cell_type": "code",
   "execution_count": 1,
   "metadata": {},
   "outputs": [],
   "source": [
    "import os\n",
    "import numpy as np\n",
    "import pandas as pd\n",
    "import pickle\n",
    "\n",
    "from plotting_functions import plot_two_lines_together, line_graph_with_limits\n",
    "from data_generation import generate_input_data\n",
    "\n",
    "os.chdir('../Model')\n",
    "from model_nile import ModelNile\n"
   ]
  },
  {
   "cell_type": "code",
   "execution_count": 2,
   "metadata": {},
   "outputs": [],
   "source": [
    "model = ModelNile()"
   ]
  },
  {
   "cell_type": "code",
   "execution_count": 3,
   "metadata": {},
   "outputs": [],
   "source": [
    "model = generate_input_data(model)"
   ]
  },
  {
   "cell_type": "code",
   "execution_count": 4,
   "metadata": {},
   "outputs": [],
   "source": [
    "pcount = model.overarching_policy.get_total_parameter_count()\n",
    "np.random.seed(123)\n",
    "random_policy = np.random.rand(pcount)\n",
    "zero_policy = np.repeat(0, pcount)"
   ]
  },
  {
   "cell_type": "code",
   "execution_count": 5,
   "metadata": {},
   "outputs": [],
   "source": [
    "import cProfile"
   ]
  },
  {
   "cell_type": "code",
   "execution_count": 6,
   "metadata": {},
   "outputs": [
    {
     "name": "stdout",
     "output_type": "stream",
     "text": [
      "         98413012 function calls (89974292 primitive calls) in 45.114 seconds\n",
      "\n",
      "   Ordered by: standard name\n",
      "\n",
      "   ncalls  tottime  percall  cumtime  percall filename:lineno(function)\n",
      "  1415680    0.492    0.000   10.534    0.000 <__array_function__ internals>:2(append)\n",
      "  1415680    0.684    0.000    3.085    0.000 <__array_function__ internals>:2(concatenate)\n",
      "  5607360    1.866    0.000   20.669    0.000 <__array_function__ internals>:2(interp)\n",
      "  5607360    1.698    0.000    5.385    0.000 <__array_function__ internals>:2(iscomplexobj)\n",
      "      960    0.001    0.000    0.030    0.000 <__array_function__ internals>:2(mean)\n",
      "  1415680    0.471    0.000    4.077    0.000 <__array_function__ internals>:2(ravel)\n",
      "        7    0.000    0.000    0.000    0.000 <__array_function__ internals>:2(sum)\n",
      "        1    0.000    0.000   45.114   45.114 <string>:1(<module>)\n",
      "  2832320    0.514    0.000    1.711    0.000 _asarray.py:110(asanyarray)\n",
      "  5607360    0.935    0.000    2.046    0.000 _asarray.py:23(asarray)\n",
      "      960    0.005    0.000    0.025    0.000 _methods.py:161(_mean)\n",
      "      960    0.007    0.000    0.008    0.000 _methods.py:65(_count_reduce_items)\n",
      "  1415680    0.145    0.000    0.145    0.000 fromnumeric.py:1712(_ravel_dispatcher)\n",
      "  1415680    0.737    0.000    2.711    0.000 fromnumeric.py:1716(ravel)\n",
      "        7    0.000    0.000    0.000    0.000 fromnumeric.py:2106(_sum_dispatcher)\n",
      "        7    0.000    0.000    0.000    0.000 fromnumeric.py:2111(sum)\n",
      "      960    0.000    0.000    0.000    0.000 fromnumeric.py:3296(_mean_dispatcher)\n",
      "      960    0.003    0.000    0.028    0.000 fromnumeric.py:3301(mean)\n",
      "        7    0.000    0.000    0.000    0.000 fromnumeric.py:70(_wrapreduction)\n",
      "        7    0.000    0.000    0.000    0.000 fromnumeric.py:71(<dictcomp>)\n",
      "  5607360    0.616    0.000    0.616    0.000 function_base.py:1286(_interp_dispatcher)\n",
      "  5607360    3.462    0.000   14.961    0.000 function_base.py:1290(interp)\n",
      "  1415680    0.167    0.000    0.167    0.000 function_base.py:4686(_append_dispatcher)\n",
      "  1415680    1.271    0.000    8.999    0.000 function_base.py:4690(append)\n",
      "      960    0.003    0.000    0.005    0.000 hydropower_plant.py:18(calculate_hydropower_production)\n",
      "        1    0.000    0.000    0.000    0.000 model_nile.py:118(<listcomp>)\n",
      "        1    0.020    0.020   45.111   45.111 model_nile.py:128(simulate)\n",
      "      240    0.000    0.000    0.000    0.000 model_nile.py:152(<listcomp>)\n",
      "      240    0.000    0.000    0.000    0.000 model_nile.py:161(<dictcomp>)\n",
      "      240    0.001    0.000    0.001    0.000 model_nile.py:241(<listcomp>)\n",
      "     1440    0.001    0.000    0.002    0.000 model_nile.py:276(squared_deficit_from_target)\n",
      "     1440    0.001    0.000    0.002    0.000 model_nile.py:284(squared_deficit_normalised)\n",
      "        1    0.000    0.000    0.000    0.000 model_nile.py:300(reset_parameters)\n",
      "        1    0.000    0.000   45.114   45.114 model_nile.py:96(evaluate)\n",
      "  1415680    0.147    0.000    0.147    0.000 multiarray.py:143(concatenate)\n",
      "  1401600    0.909    0.000    5.857    0.000 reservoir.py:107(level_to_surface)\n",
      "      960   10.014    0.010   44.954    0.047 reservoir.py:114(integration)\n",
      "  1402560    1.034    0.000    6.477    0.000 reservoir.py:91(storage_to_level)\n",
      "      240    0.001    0.000    0.008    0.000 smash.py:111(denormalize_vector)\n",
      "       10    0.000    0.000    0.000    0.000 smash.py:192(__init__)\n",
      "        1    0.000    0.000    0.003    0.003 smash.py:208(set_parameters)\n",
      "      240    0.029    0.000    0.056    0.000 smash.py:233(get_output)\n",
      "        1    0.000    0.000    0.000    0.000 smash.py:269(get_free_parameter_number)\n",
      "        1    0.000    0.000    0.003    0.003 smash.py:41(assign_free_parameters)\n",
      "      240    0.001    0.000    0.078    0.000 smash.py:76(get_output_norm)\n",
      "      240    0.002    0.000    0.013    0.000 smash.py:84(normalize_vector)\n",
      "  5607360    0.533    0.000    0.533    0.000 type_check.py:206(_is_type_dispatcher)\n",
      "  5607360    1.409    0.000    1.851    0.000 type_check.py:279(iscomplexobj)\n",
      "        1    0.000    0.000   45.114   45.114 {built-in method builtins.exec}\n",
      "      960    0.001    0.000    0.001    0.000 {built-in method builtins.hasattr}\n",
      "  1416647    0.169    0.000    0.169    0.000 {built-in method builtins.isinstance}\n",
      "  5609280    0.442    0.000    0.442    0.000 {built-in method builtins.issubclass}\n",
      "  1405206    0.557    0.000    0.557    0.000 {built-in method builtins.max}\n",
      "  2806560    1.290    0.000    1.290    0.000 {built-in method builtins.min}\n",
      "    17280    0.004    0.000    0.004    0.000 {built-in method builtins.pow}\n",
      "       38    0.000    0.000    0.000    0.000 {built-in method builtins.setattr}\n",
      "      240    0.001    0.000    0.001    0.000 {built-in method builtins.sum}\n",
      "      961    0.007    0.000    0.007    0.000 {built-in method numpy.arange}\n",
      "  8439920    2.309    0.000    2.309    0.000 {built-in method numpy.array}\n",
      "15462727/7024007    8.410    0.000   28.091    0.000 {built-in method numpy.core._multiarray_umath.implement_array_function}\n",
      "  5607360    4.068    0.000    4.068    0.000 {built-in method numpy.core._multiarray_umath.interp}\n",
      "      960    0.001    0.000    0.001    0.000 {built-in method numpy.core._multiarray_umath.normalize_axis_index}\n",
      "     1991    0.002    0.000    0.002    0.000 {built-in method numpy.empty}\n",
      "      250    0.000    0.000    0.000    0.000 {method 'append' of 'list' objects}\n",
      "        1    0.000    0.000    0.000    0.000 {method 'disable' of '_lsprof.Profiler' objects}\n",
      "        8    0.000    0.000    0.000    0.000 {method 'items' of 'dict' objects}\n",
      "  1415680    0.660    0.000    0.660    0.000 {method 'ravel' of 'numpy.ndarray' objects}\n",
      "      967    0.011    0.000    0.011    0.000 {method 'reduce' of 'numpy.ufunc' objects}\n",
      "     1202    0.000    0.000    0.000    0.000 {method 'values' of 'dict' objects}\n",
      "\n",
      "\n"
     ]
    }
   ],
   "source": [
    "cProfile.run(\"model.evaluate(random_policy)\")"
   ]
  }
 ],
 "metadata": {
  "interpreter": {
   "hash": "aee8b7b246df8f9039afb4144a1f6fd8d2ca17a180786b69acc140d282b71a49"
  },
  "kernelspec": {
   "display_name": "Python 3.9.7 64-bit",
   "name": "python3"
  },
  "language_info": {
   "codemirror_mode": {
    "name": "ipython",
    "version": 3
   },
   "file_extension": ".py",
   "mimetype": "text/x-python",
   "name": "python",
   "nbconvert_exporter": "python",
   "pygments_lexer": "ipython3",
   "version": "3.9.7"
  }
 },
 "nbformat": 4,
 "nbformat_minor": 2
}
