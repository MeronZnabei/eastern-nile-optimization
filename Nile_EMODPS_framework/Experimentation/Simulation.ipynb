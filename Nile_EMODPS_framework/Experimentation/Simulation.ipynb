{
 "cells": [
  {
   "cell_type": "markdown",
   "metadata": {
    "collapsed": true,
    "pycharm": {
     "name": "#%% md\n"
    }
   },
   "source": [
    "# Simulation notebook\n",
    "This notebook is used for testing the Nile model on the single run *simulation* (not optimization) mode."
   ]
  },
  {
   "cell_type": "code",
   "execution_count": 1,
   "metadata": {},
   "outputs": [],
   "source": [
    "import os\n",
    "import numpy as np\n",
    "import pandas as pd\n",
    "import pickle\n",
    "\n",
    "from plotting_functions import plot_two_lines_together, line_graph_with_limits\n",
    "from data_generation import generate_input_data\n",
    "\n",
    "os.chdir('../Model')\n",
    "from model_nile import ModelNile\n"
   ]
  },
  {
   "cell_type": "code",
   "execution_count": 2,
   "metadata": {},
   "outputs": [],
   "source": [
    "model = ModelNile()"
   ]
  },
  {
   "cell_type": "code",
   "execution_count": 3,
   "metadata": {},
   "outputs": [],
   "source": [
    "model = generate_input_data(model,sim_horizon=20)"
   ]
  },
  {
   "cell_type": "code",
   "execution_count": 4,
   "metadata": {},
   "outputs": [],
   "source": [
    "pcount = model.overarching_policy.get_total_parameter_count()\n",
    "np.random.seed(123)\n",
    "random_policy = np.random.rand(pcount)\n",
    "zero_policy = np.repeat(0, pcount)"
   ]
  },
  {
   "cell_type": "code",
   "execution_count": 5,
   "metadata": {},
   "outputs": [
    {
     "ename": "IndexError",
     "evalue": "index 12 is out of bounds for axis 0 with size 12",
     "output_type": "error",
     "traceback": [
      "\u001b[0;31m---------------------------------------------------------------------------\u001b[0m",
      "\u001b[0;31mIndexError\u001b[0m                                Traceback (most recent call last)",
      "\u001b[0;32m/var/folders/w9/s4802gxx0d93s48f8j46mcpw0000gn/T/ipykernel_1198/2447209940.py\u001b[0m in \u001b[0;36m<module>\u001b[0;34m\u001b[0m\n\u001b[1;32m      2\u001b[0m \u001b[0;34m\u001b[0m\u001b[0m\n\u001b[1;32m      3\u001b[0m \u001b[0;32mfor\u001b[0m \u001b[0mpolicy\u001b[0m \u001b[0;32min\u001b[0m \u001b[0mtrial_policies\u001b[0m\u001b[0;34m:\u001b[0m\u001b[0;34m\u001b[0m\u001b[0;34m\u001b[0m\u001b[0m\n\u001b[0;32m----> 4\u001b[0;31m     \u001b[0mmodel\u001b[0m\u001b[0;34m.\u001b[0m\u001b[0mevaluate\u001b[0m\u001b[0;34m(\u001b[0m\u001b[0mpolicy\u001b[0m\u001b[0;34m)\u001b[0m\u001b[0;34m\u001b[0m\u001b[0;34m\u001b[0m\u001b[0m\n\u001b[0m\u001b[1;32m      5\u001b[0m     plot_two_lines_together(model.irr_districts[\"Egypt\"].received_flow, \"received\",\n\u001b[1;32m      6\u001b[0m         model.irr_districts[\"Egypt\"].demand, \"demand\", \"Egypt demanded versus received water flow\")\n",
      "\u001b[0;32m~/Documents/master-thesis-project/Nile_EMODPS_framework/Model/model_nile.py\u001b[0m in \u001b[0;36mevaluate\u001b[0;34m(self, parameter_vector)\u001b[0m\n\u001b[1;32m    113\u001b[0m         \u001b[0mself\u001b[0m\u001b[0;34m.\u001b[0m\u001b[0mreset_parameters\u001b[0m\u001b[0;34m(\u001b[0m\u001b[0;34m)\u001b[0m\u001b[0;34m\u001b[0m\u001b[0;34m\u001b[0m\u001b[0m\n\u001b[1;32m    114\u001b[0m         \u001b[0mself\u001b[0m\u001b[0;34m.\u001b[0m\u001b[0moverarching_policy\u001b[0m\u001b[0;34m.\u001b[0m\u001b[0massign_free_parameters\u001b[0m\u001b[0;34m(\u001b[0m\u001b[0mparameter_vector\u001b[0m\u001b[0;34m)\u001b[0m\u001b[0;34m\u001b[0m\u001b[0;34m\u001b[0m\u001b[0m\n\u001b[0;32m--> 115\u001b[0;31m         \u001b[0mself\u001b[0m\u001b[0;34m.\u001b[0m\u001b[0msimulate\u001b[0m\u001b[0;34m(\u001b[0m\u001b[0;34m)\u001b[0m\u001b[0;34m\u001b[0m\u001b[0;34m\u001b[0m\u001b[0m\n\u001b[0m\u001b[1;32m    116\u001b[0m \u001b[0;34m\u001b[0m\u001b[0m\n\u001b[1;32m    117\u001b[0m         \u001b[0megypt_agg_def\u001b[0m \u001b[0;34m=\u001b[0m \u001b[0mnp\u001b[0m\u001b[0;34m.\u001b[0m\u001b[0msum\u001b[0m\u001b[0;34m(\u001b[0m\u001b[0mself\u001b[0m\u001b[0;34m.\u001b[0m\u001b[0mirr_districts\u001b[0m\u001b[0;34m[\u001b[0m\u001b[0;34m\"Egypt\"\u001b[0m\u001b[0;34m]\u001b[0m\u001b[0;34m.\u001b[0m\u001b[0mnormalised_deficit\u001b[0m\u001b[0;34m)\u001b[0m\u001b[0;34m\u001b[0m\u001b[0;34m\u001b[0m\u001b[0m\n",
      "\u001b[0;32m~/Documents/master-thesis-project/Nile_EMODPS_framework/Model/model_nile.py\u001b[0m in \u001b[0;36msimulate\u001b[0;34m(self)\u001b[0m\n\u001b[1;32m    165\u001b[0m             self.reservoirs[\"GERD\"].integration(\n\u001b[1;32m    166\u001b[0m                 \u001b[0mnu_of_days\u001b[0m\u001b[0;34m,\u001b[0m \u001b[0mdecision_dict\u001b[0m\u001b[0;34m[\u001b[0m\u001b[0;34m\"GERD\"\u001b[0m\u001b[0;34m]\u001b[0m\u001b[0;34m,\u001b[0m\u001b[0;34m\u001b[0m\u001b[0;34m\u001b[0m\u001b[0m\n\u001b[0;32m--> 167\u001b[0;31m                 self.catchments[\"BlueNile\"].inflow[t], moy, self.integration_interval)\n\u001b[0m\u001b[1;32m    168\u001b[0m \u001b[0;34m\u001b[0m\u001b[0m\n\u001b[1;32m    169\u001b[0m             self.reservoirs[\"Roseires\"].integration(\n",
      "\u001b[0;31mIndexError\u001b[0m: index 12 is out of bounds for axis 0 with size 12"
     ]
    }
   ],
   "source": [
    "trial_policies = [random_policy, zero_policy]\n",
    "\n",
    "for policy in trial_policies:\n",
    "    model.evaluate(policy)\n",
    "    plot_two_lines_together(model.irr_districts[\"Egypt\"].received_flow, \"received\",\n",
    "        model.irr_districts[\"Egypt\"].demand, \"demand\", \"Egypt demanded versus received water flow\")\n",
    "    plot_two_lines_together(model.irr_districts[\"Gezira\"].received_flow, \"received\",\n",
    "        model.irr_districts[\"Gezira\"].demand, \"demand\", \"Gezira demanded versus received water flow\")\n",
    "    for dam in model.reservoir_names:\n",
    "        line_graph_with_limits(model.reservoirs[dam].level_vector, f\"{dam} Level\",\n",
    "            model.reservoirs[dam].rating_curve[0,0],\n",
    "            model.reservoirs[dam].rating_curve[0,-1], f\"{dam} elevation overtime\")"
   ]
  },
  {
   "cell_type": "markdown",
   "metadata": {},
   "source": [
    "# Plotting\n",
    "\n",
    "Below code block will be used to plot some of the actual physical quantities (summary releases across reservoirs, irrigation per catchment, average environmental flows) based on the vectors that were produced by simulation runs:"
   ]
  },
  {
   "cell_type": "code",
   "execution_count": 6,
   "metadata": {},
   "outputs": [
    {
     "data": {
      "text/plain": [
       "[0.1, 0.1, 0.1]"
      ]
     },
     "execution_count": 6,
     "metadata": {},
     "output_type": "execute_result"
    }
   ],
   "source": [
    "[0.1] * 3"
   ]
  }
 ],
 "metadata": {
  "interpreter": {
   "hash": "aee8b7b246df8f9039afb4144a1f6fd8d2ca17a180786b69acc140d282b71a49"
  },
  "kernelspec": {
   "display_name": "Python 3.9.7 64-bit",
   "name": "python3"
  },
  "language_info": {
   "codemirror_mode": {
    "name": "ipython",
    "version": 3
   },
   "file_extension": ".py",
   "mimetype": "text/x-python",
   "name": "python",
   "nbconvert_exporter": "python",
   "pygments_lexer": "ipython3",
   "version": "3.9.7"
  }
 },
 "nbformat": 4,
 "nbformat_minor": 2
}
